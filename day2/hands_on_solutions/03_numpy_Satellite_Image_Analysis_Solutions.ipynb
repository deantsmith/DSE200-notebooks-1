{
 "cells": [
  {
   "cell_type": "code",
   "execution_count": 1,
   "metadata": {},
   "outputs": [],
   "source": [
    "%matplotlib inline\n",
    "import numpy as np\n",
    "from scipy import misc\n",
    "import imageio\n",
    "import matplotlib.pyplot as plt"
   ]
  },
  {
   "cell_type": "markdown",
   "metadata": {},
   "source": [
    "<p style=\"font-family: Arial; font-size:1.75em;color:#2462C0; font-style:bold\">\n",
    "Hands-on Exercise 1: Masking</p>\n",
    "<br/>Create a mask that sets the green layer in the right half of the image to highest intensity."
   ]
  },
  {
   "cell_type": "code",
   "execution_count": null,
   "metadata": {},
   "outputs": [],
   "source": [
    "photo_data = imageio.imread('./wifire/sd-3layers.jpg')\n",
    "\n",
    "width = photo_data.shape[1]\n",
    "\n",
    "photo_data[:, width//2:width, 1] = 255\n",
    "\n",
    "\n",
    "plt.figure(figsize=(15,15))\n",
    "plt.imshow(photo_data)"
   ]
  },
  {
   "cell_type": "markdown",
   "metadata": {},
   "source": [
    "<p style=\"font-family: Arial; font-size:1.75em;color:#2462C0; font-style:bold\">\n",
    "Hands-on Exercise 2: Masking</p>\n",
    "Composite mask that takes thresholds on all three RGB layers</p>"
   ]
  },
  {
   "cell_type": "code",
   "execution_count": null,
   "metadata": {},
   "outputs": [],
   "source": [
    "photo_data = imageio.imread('./wifire/sd-3layers.jpg')\n",
    "\n",
    "red_mask   = photo_data[:, : ,0] < 150\n",
    "green_mask = photo_data[:, : ,1] > 100\n",
    "blue_mask  = photo_data[:, : ,2] < 100\n",
    "\n",
    "final_mask = np.logical_and(red_mask, green_mask, blue_mask)\n",
    "photo_data[final_mask] = 0\n",
    "\n",
    "plt.figure(figsize=(15,15))\n",
    "plt.imshow(photo_data)"
   ]
  }
 ],
 "metadata": {
  "anaconda-cloud": {},
  "kernelspec": {
   "display_name": "Python 3",
   "language": "python",
   "name": "python3"
  },
  "language_info": {
   "codemirror_mode": {
    "name": "ipython",
    "version": 3
   },
   "file_extension": ".py",
   "mimetype": "text/x-python",
   "name": "python",
   "nbconvert_exporter": "python",
   "pygments_lexer": "ipython3",
   "version": "3.6.5"
  }
 },
 "nbformat": 4,
 "nbformat_minor": 2
}
