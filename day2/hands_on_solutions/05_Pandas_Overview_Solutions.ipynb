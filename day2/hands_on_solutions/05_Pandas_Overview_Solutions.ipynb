{
 "cells": [
  {
   "cell_type": "markdown",
   "metadata": {},
   "source": [
    "### Hands-on Exercise 1: Find most frequently reviewed movie\n",
    "Print the id of the movie with the most ratings<br>\n",
    "<b>Bonus:</b> Print the title of this movie"
   ]
  },
  {
   "cell_type": "code",
   "execution_count": null,
   "metadata": {},
   "outputs": [],
   "source": [
    "mode = ratings['movieId'].mode()[0]\n",
    "movies[movies.movieId == mode]"
   ]
  },
  {
   "cell_type": "markdown",
   "metadata": {},
   "source": [
    "### Hands-on Exercise 2: Find the Mean Rating of a Movie¶\n",
    "The movie Toy Story has movieId 1. Find out the mean rating for Toy Story. For this exercise you just need to use the ratings DataFrame:"
   ]
  },
  {
   "cell_type": "code",
   "execution_count": null,
   "metadata": {},
   "outputs": [],
   "source": [
    "toy_story_rating = ratings[ratings.movieId == 1].rating.mean()\n",
    "assert abs(toy_story_rating - 3.92) < 0.01, \"Try again, select only the rows where the movieId is equal to 1\""
   ]
  },
  {
   "cell_type": "markdown",
   "metadata": {},
   "source": [
    "### Hands-on Exercise 3: Filter by Genre\n",
    "Let's implement a general function that filters movies by genres:"
   ]
  },
  {
   "cell_type": "code",
   "execution_count": null,
   "metadata": {},
   "outputs": [],
   "source": [
    "def filter_by_genre(input_movies, genre):\n",
    "    \"\"\"Return only movies of a specific genre\"\"\"\n",
    "    return input_movies[input_movies.genres.str.contains(genre)]\n",
    "\n",
    "fantasy_movies = filter_by_genre(movies, \"Fantasy\")\n",
    "assert len(movies) == 27278, \"Try again, check the documentation of the function you used\""
   ]
  },
  {
   "cell_type": "markdown",
   "metadata": {},
   "source": [
    "## Exercise 4: Join Movies and Ratings\n",
    "\n",
    "Let's create a single `DataFrame` that contains both titles and mean ratings of the popular fantasy movies.\n",
    "\n",
    "Titles are only available in the `movies` `DataFrame`, while ratings in the `ratings` `DataFrame`, we would like to create a single DataFrame that includes Title."
   ]
  },
  {
   "cell_type": "code",
   "execution_count": null,
   "metadata": {},
   "outputs": [],
   "source": [
    "mean_ratings = ratings.rating.groupby(ratings.movieId).mean()"
   ]
  }
 ],
 "metadata": {
  "anaconda-cloud": {},
  "kernelspec": {
   "display_name": "Python 3",
   "language": "python",
   "name": "python3"
  },
  "language_info": {
   "codemirror_mode": {
    "name": "ipython",
    "version": 3
   },
   "file_extension": ".py",
   "mimetype": "text/x-python",
   "name": "python",
   "nbconvert_exporter": "python",
   "pygments_lexer": "ipython3",
   "version": "3.6.5"
  }
 },
 "nbformat": 4,
 "nbformat_minor": 2
}
