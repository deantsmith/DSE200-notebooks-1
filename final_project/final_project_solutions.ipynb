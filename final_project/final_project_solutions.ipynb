{
 "cells": [
  {
   "cell_type": "markdown",
   "metadata": {},
   "source": [
    "# DSE 200 FINAL PROJECT\n",
    "## Fall 2018\n",
    "### Due Date:  December 7th, 2018"
   ]
  },
  {
   "cell_type": "markdown",
   "metadata": {},
   "source": [
    "The final project is comprised of two parts: \n",
    "* <b>Part I</b> is a set of coding questions that require the _numpy_ library to analyze the provided dataset.  \n",
    "* <b>Part II</b> is a guided project for you to build your own end-to-end analysis using Python, especially using what you learned on Python _IO_, _pandas_, _matplotlib_ and _scilitlearn_ libraries.  \n",
    "\n",
    "<b>Deliverables</b>: Submit both parts as one notebook via Github by midnight on the due date above along with clear instructions on how to download the datasets you used for Part II and reproduce your results. The notebook should be organized with a clear table of contents on top _(see example in the Pylaski notebook from Day 5)_ and links to the parts/steps outlined. Don't forget to add your name on top as the author of the notebook. "
   ]
  },
  {
   "cell_type": "markdown",
   "metadata": {},
   "source": [
    "# PART I: 20%"
   ]
  },
  {
   "cell_type": "markdown",
   "metadata": {},
   "source": [
    "### Preliminaries"
   ]
  },
  {
   "cell_type": "code",
   "execution_count": 1,
   "metadata": {},
   "outputs": [],
   "source": [
    "import numpy as np"
   ]
  },
  {
   "cell_type": "markdown",
   "metadata": {},
   "source": [
    "### 1.1 Preliminaries\n",
    "\n",
    "Use numpy to load `iris.npy` into a numpy matrix. Print the dataset's shape and the first 5 rows.<br>\n",
    "\n",
    "**Output required**: \n",
    "<ul>\n",
    "    <li>Tuple representing dataset's shape</li>\n",
    "    <li>Matrix representing the first 5 rows</li>\n",
    "</ul>"
   ]
  },
  {
   "cell_type": "code",
   "execution_count": 2,
   "metadata": {},
   "outputs": [],
   "source": [
    "# For reference\n",
    "column_names = ['Id','SepalLengthCm','SepalWidthCm','PetalLengthCm','PetalWidthCm','Species']\n",
    "species_encoding = {'Iris-setosa': 1, 'Iris-versicolor': 2, 'Iris-virginica': 3}"
   ]
  },
  {
   "cell_type": "code",
   "execution_count": 3,
   "metadata": {},
   "outputs": [
    {
     "name": "stdout",
     "output_type": "stream",
     "text": [
      "(150, 6)\n",
      "[[ 1.   5.1  3.5  1.4  0.2  1. ]\n",
      " [ 2.   4.9  3.   1.4  0.2  1. ]\n",
      " [ 3.   4.7  3.2  1.3  0.2  1. ]\n",
      " [ 4.   4.6  3.1  1.5  0.2  1. ]\n",
      " [ 5.   5.   3.6  1.4  0.2  1. ]]\n"
     ]
    }
   ],
   "source": [
    "data = np.load('iris.npy')\n",
    "print(data.shape)\n",
    "print(data[:5])"
   ]
  },
  {
   "cell_type": "markdown",
   "metadata": {},
   "source": [
    "### 1.2  Transformations\n",
    "\n",
    "The first column is the id of the sample, which isn't relevant for our purposes. Remove that column from the matrix by creating a new matrix composed of the rest of the columns.<br>\n",
    "As usual, print the shape of the resulting dataset and the first 5 rows.\n",
    "\n",
    "**Output required**: \n",
    "<ul>\n",
    "    <li>Tuple representing dataset's shape</li>\n",
    "    <li>Matrix representing the first 5 rows</li>\n",
    "</ul>"
   ]
  },
  {
   "cell_type": "code",
   "execution_count": 4,
   "metadata": {},
   "outputs": [
    {
     "name": "stdout",
     "output_type": "stream",
     "text": [
      "(150, 5)\n",
      "[[ 5.1  3.5  1.4  0.2  1. ]\n",
      " [ 4.9  3.   1.4  0.2  1. ]\n",
      " [ 4.7  3.2  1.3  0.2  1. ]\n",
      " [ 4.6  3.1  1.5  0.2  1. ]\n",
      " [ 5.   3.6  1.4  0.2  1. ]]\n"
     ]
    }
   ],
   "source": [
    "data = data[:, 1:]\n",
    "print(data.shape)\n",
    "print(data[:5])"
   ]
  },
  {
   "cell_type": "markdown",
   "metadata": {},
   "source": [
    "### 1.3 Summary Statistics\n",
    "\n",
    "*Note: Don't worry about the order in which you display the values in this section. Display them in whatever order/grouping makes most sense to you*"
   ]
  },
  {
   "cell_type": "markdown",
   "metadata": {},
   "source": [
    "**a)** Print the means and standard deviations of each column.\n",
    "\n",
    "**Output required**: \n",
    "<ul>\n",
    "    <li>Floats representing the standard deviation of each column</li>\n",
    "    <li>Floats representing the mean of each column</li>\n",
    "</ul>"
   ]
  },
  {
   "cell_type": "code",
   "execution_count": 5,
   "metadata": {},
   "outputs": [
    {
     "name": "stdout",
     "output_type": "stream",
     "text": [
      "Means:\n",
      " [ 5.84333333  3.054       3.75866667  1.19866667  2.        ]\n",
      "Std devs:\n",
      " [ 0.82530129  0.43214658  1.75852918  0.76061262  0.81649658]\n"
     ]
    }
   ],
   "source": [
    "print(\"Means:\\n\", data.mean(axis=0))\n",
    "print(\"Std devs:\\n\", data.std(axis=0))"
   ]
  },
  {
   "cell_type": "markdown",
   "metadata": {},
   "source": [
    "**b)** Print the minimum and maximum values of each column\n",
    "\n",
    "**Output required**: \n",
    "<ul>\n",
    "    <li>Floats representing the minimum value found in each column</li>\n",
    "    <li>Floats representing the maximum value found in each column</li>\n",
    "</ul>"
   ]
  },
  {
   "cell_type": "code",
   "execution_count": 6,
   "metadata": {},
   "outputs": [
    {
     "name": "stdout",
     "output_type": "stream",
     "text": [
      "Mins:\n",
      " [ 4.3  2.   1.   0.1  1. ]\n",
      "Maxs:\n",
      " [ 7.9  4.4  6.9  2.5  3. ]\n"
     ]
    }
   ],
   "source": [
    "print(\"Mins:\\n\", data.min(axis=0))\n",
    "print(\"Maxs:\\n\", data.max(axis=0))"
   ]
  },
  {
   "cell_type": "markdown",
   "metadata": {},
   "source": [
    "**c)** Calculate the species-wise means and standard deviations.<br>\n",
    "**Report these values with respect to the actual *name* of the species, for which you must refer to 1.1**\n",
    "\n",
    "**Output required**: \n",
    "<ul>\n",
    "    <li>For each of the 3 species in the dataset:<ul>\n",
    "        <li>Floats representing the standard deviation of each column for this species</li>\n",
    "        <li>Floats representing the mean of each column for this species</li>\n",
    "</ul>"
   ]
  },
  {
   "cell_type": "code",
   "execution_count": 7,
   "metadata": {},
   "outputs": [
    {
     "name": "stdout",
     "output_type": "stream",
     "text": [
      "Species: Iris-setosa\n",
      "\tMean:  [ 5.006  3.418  1.464  0.244  1.   ]\n",
      "\tSTD:  [ 0.34894699  0.37719491  0.17176728  0.10613199  0.        ]\n",
      "Species: Iris-versicolor\n",
      "\tMean:  [ 5.936  2.77   4.26   1.326  2.   ]\n",
      "\tSTD:  [ 0.51098337  0.31064449  0.46518813  0.19576517  0.        ]\n",
      "Species: Iris-virginica\n",
      "\tMean:  [ 6.588  2.974  5.552  2.026  3.   ]\n",
      "\tSTD:  [ 0.62948868  0.31925538  0.54634787  0.27188968  0.        ]\n"
     ]
    }
   ],
   "source": [
    "for species in species_encoding:\n",
    "    species_id = species_encoding[species] \n",
    "    print(\"Species:\", species)\n",
    "    print(\"\\tMean: \", data[data[:, -1] == species_id].mean(axis=0))\n",
    "    print(\"\\tSTD: \", data[data[:, -1] == species_id].std(axis=0))\n"
   ]
  },
  {
   "cell_type": "markdown",
   "metadata": {},
   "source": [
    "### 1.4  Advanced list comprehensions and numpy\n",
    "\n",
    "Use list comprehensions to generate a list of tuples for each species.<br>\n",
    "Each tuple will have the column name and that column's mean. Note that the column names are listed in **1.1**, but recall that you dropped the id column.\n",
    "Each list will have the following format:\n",
    "    `[(column_name, column_mean), (column_name, column_mean), ...]`\n",
    "    \n",
    "   *hint*: The enumerate function might be helpful in creating a concise comprehension<br>\n",
    "   *hint*: Check your intuition using your **1.3c** output\n",
    "\n",
    "**Output required**: \n",
    "<ul>\n",
    "    <li>Three lists of tuples</li>\n",
    "</ul>"
   ]
  },
  {
   "cell_type": "code",
   "execution_count": 9,
   "metadata": {},
   "outputs": [
    {
     "name": "stdout",
     "output_type": "stream",
     "text": [
      "[('SepalLengthCm', '5.01'), ('SepalWidthCm', '3.42'), ('PetalLengthCm', '1.46'), ('PetalWidthCm', '0.24'), ('Species', '1.00')]\n",
      "[('SepalLengthCm', '5.94'), ('SepalWidthCm', '2.77'), ('PetalLengthCm', '4.26'), ('PetalWidthCm', '1.33'), ('Species', '2.00')]\n",
      "[('SepalLengthCm', '6.59'), ('SepalWidthCm', '2.97'), ('PetalLengthCm', '5.55'), ('PetalWidthCm', '2.03'), ('Species', '3.00')]\n"
     ]
    }
   ],
   "source": [
    "species1 = [(name, '%.2f' % data[data[:, -1] == 1][:,i].mean()) for i, name in enumerate(column_names[1:])]\n",
    "species2 = [(name, '%.2f' % data[data[:, -1] == 2][:,i].mean()) for i, name in enumerate(column_names[1:])]\n",
    "species3 = [(name, '%.2f' % data[data[:, -1] == 3][:,i].mean()) for i, name in enumerate(column_names[1:])]\n",
    "\n",
    "print(species1)\n",
    "print(species2)\n",
    "print(species3)"
   ]
  }
 ],
 "metadata": {
  "anaconda-cloud": {},
  "kernelspec": {
   "display_name": "Python 3",
   "language": "python",
   "name": "python3"
  },
  "language_info": {
   "codemirror_mode": {
    "name": "ipython",
    "version": 3
   },
   "file_extension": ".py",
   "mimetype": "text/x-python",
   "name": "python",
   "nbconvert_exporter": "python",
   "pygments_lexer": "ipython3",
   "version": "3.6.5"
  }
 },
 "nbformat": 4,
 "nbformat_minor": 2
}
