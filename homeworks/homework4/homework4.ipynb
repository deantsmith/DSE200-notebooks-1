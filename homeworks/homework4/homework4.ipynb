{
 "cells": [
  {
   "cell_type": "markdown",
   "metadata": {},
   "source": [
    "# Assignment 4\n",
    "\n",
    "# MAS DSE200"
   ]
  },
  {
   "cell_type": "markdown",
   "metadata": {},
   "source": [
    "## Instructions\n",
    "\n",
    "* The answers to the questions should be submitted on github. \n",
    "* You don’t need to explain your approach (unless specified) so please be concise in your submission. \n",
    "* To obtain full marks for a question, both the answer and the code should be correct. \n",
    "* Completely wrong (or missing) code with correct answer will result in zero marks. \n",
    "* Please code the solution in the space provided.<br><br>\n",
    "* Code output format is specified like this when applicable\n",
    "<i style='color:blue'>\n",
    "* Output Required:\n",
    "    * datatype or format -- description\n",
    "    * datatype or format -- description\n",
    "    *  ...\n",
    "</i>"
   ]
  },
  {
   "cell_type": "markdown",
   "metadata": {},
   "source": [
    "### Imports"
   ]
  },
  {
   "cell_type": "code",
   "execution_count": 14,
   "metadata": {},
   "outputs": [],
   "source": [
    "import pandas as pd\n",
    "import numpy as np\n",
    "import random\n",
    "import matplotlib.pyplot as plt\n",
    "\n",
    "%matplotlib inline"
   ]
  },
  {
   "cell_type": "markdown",
   "metadata": {},
   "source": [
    "Use the given code snippet to access the data files\n",
    "\n",
    "### Education Data\n",
    "\n",
    "Download county-level public school finances data ([Individual Unit Tables](https://www.census.gov/data/tables/2005/econ/school-finances/secondary-education-finance.html)) from [here](https://www.census.gov/programs-surveys/school-finances/data/tables.html) for year 2016. \n",
    "\n",
    "#### Fields\n",
    "* CONUM: FIPS code \n",
    "    * formatted as state FIPS + county FIPS, these are separate columns in the SAIPE data. This notebook comes with code that deals with this.\n",
    "* TOTALREV: Total Revenue for primary and secondary schools\n",
    "* TFEDREV: Total federal revenue\n",
    "* TSTREV: Total state revenue\n",
    "* TLOCREV: Total local revenue\n",
    "* TOTALEXP: Total expenditure\n",
    "\n",
    "[Full Documentation](https://www2.census.gov/programs-surveys/school-finances/tables/2015/secondary-education-finance/school15doc.pdf)\n",
    "\n",
    "### SAIPE Data\n",
    "https://www.census.gov/programs-surveys/saipe/data/datasets.All.html\n",
    "\n",
    "\n",
    "The data fields are described here (in File Layout):https://www.census.gov/data/datasets/2015/demo/saipe/2015-state-and-county.html \n",
    "\n",
    "#### Fields\n",
    "* State FIPS Code\n",
    "* County FIPS Code\n",
    "* Poverty Estimate, All Ages\n",
    "* Poverty Percent, All Ages"
   ]
  },
  {
   "cell_type": "code",
   "execution_count": 15,
   "metadata": {},
   "outputs": [
    {
     "name": "stdout",
     "output_type": "stream",
     "text": [
      "Extracting data from: https://www2.census.gov/programs-surveys/school-finances/tables/2016/secondary-education-finance/elsec16t.xls\n",
      "Extracting data from: https://www2.census.gov/programs-surveys/saipe/datasets/2016/2016-state-and-county/est16all.xls\n",
      "DataFrame for SAIPE data: (3194, 4)\n",
      "DataFrame for education finance data: (14325, 7)\n"
     ]
    }
   ],
   "source": [
    "# ----- do not modify this cell -----\n",
    "\n",
    "# Templates for pulling data from different years\n",
    "url_templat_edu = 'https://www2.census.gov/programs-surveys/school-finances/tables/{}/secondary-education-finance/elsec{}t.xls'\n",
    "url_template_saipe = 'https://www2.census.gov/programs-surveys/saipe/datasets/{}/{}-state-and-county/est{}all.xls'\n",
    "\n",
    "# Columns we are interested for each dataset\n",
    "use_cols_saipe = ['State FIPS Code', 'County FIPS Code','Name', 'Poverty Percent, All Ages']\n",
    "use_cols_edu = ['NAME', 'CONUM', 'TOTALREV', 'TFEDREV', 'TSTREV', 'TLOCREV', 'TOTALEXP']\n",
    "\n",
    "# Format our urls with 2016\n",
    "year = '2016'\n",
    "url_edu = url_templat_edu.format(year, year[2:])\n",
    "url_saipe = url_template_saipe.format(year, year, year[2:])\n",
    "\n",
    "# Get education finance data\n",
    "print(\"Extracting data from:\", url_edu)\n",
    "edu_df = pd.read_excel(url_edu)[use_cols_edu]\n",
    "edu_df['CONUM'] = edu_df['CONUM'].astype(str)\n",
    "        \n",
    "# Get SAIPE data\n",
    "print(\"Extracting data from:\", url_saipe)\n",
    "saipe_df = pd.read_excel(url_saipe, header=3)[use_cols_saipe]\n",
    "# Format the FIPS code so it matches edu_df's format. This column will be used to merge the dataframes later.\n",
    "saipe_df['County FIPS Code'] = saipe_df['State FIPS Code'].map(str) + saipe_df['County FIPS Code'].map(str)\n",
    "\n",
    "print(\"DataFrame for SAIPE data:\", saipe_df.shape)\n",
    "print(\"DataFrame for education finance data:\", edu_df.shape)"
   ]
  },
  {
   "cell_type": "markdown",
   "metadata": {},
   "source": [
    "Your task in this section is to show whether or not counties that invested more than average in education have seen a significant decrease in poverty in later years, as compared with counties which invested less than average.\n",
    "\n",
    "It is an open-ended task. We are looking to see whether you can visualize the data and identify trends."
   ]
  },
  {
   "cell_type": "markdown",
   "metadata": {},
   "source": [
    "## Part 1: Clustering (Education Finance Data)\n",
    "\n",
    "We will perform cluster analysis on counties using their associated educational finance figures\n",
    "This uses `edu_df` defined above"
   ]
  },
  {
   "cell_type": "markdown",
   "metadata": {},
   "source": [
    "### 1.1 Data \n",
    "Print the DataFrame's shape as well as it's first few entries. Make sure it has no null entries. \n",
    "\n",
    "\n",
    "<i style='color:blue'>\n",
    "<ul><li>Output Required:<ul>\n",
    "    <li>tuple     -- DataFrame's shape</li>\n",
    "    <li>DataFrame -- The head of the `edu_df` DataFrame</li>\n",
    "    <li>int       -- The number of missing values in the DataFrame</li>\n",
    "</ul></li></ul>\n",
    "</i>"
   ]
  },
  {
   "cell_type": "code",
   "execution_count": null,
   "metadata": {},
   "outputs": [],
   "source": []
  },
  {
   "cell_type": "markdown",
   "metadata": {},
   "source": [
    "### 1.2 Features - 2 points\n",
    "\n",
    "We'll now construct a new DataFrame containing only the features we want to use for clustering.<br>\n",
    "**Start by creating a copy of edu_df** using DataFrame.copy so that you have an unaltered copy of the original. <br>\n",
    "Then, **drop the these columns**: `NAME`, `CONUM`.<br>\n",
    "You must then **normalize the data.** <br><br>\n",
    "*If methodology for normalizing is unclear, see the clustering or radial plot notebooks from day 4.<br>\n",
    "If the motivation for normalizing is unclear, start a Piazza discussion*<br><br>\n",
    "\n",
    "\n",
    "<i style='color:blue'>\n",
    "<ul><li>Output Required:<ul>\n",
    "        <li>tuple     -- DataFrame's shape</li>\n",
    "        <li>DataFrame -- The head of the DataFrame</li>\n",
    "</ul></li></ul>"
   ]
  },
  {
   "cell_type": "code",
   "execution_count": null,
   "metadata": {},
   "outputs": [],
   "source": []
  },
  {
   "cell_type": "markdown",
   "metadata": {},
   "source": [
    "### 1.3 KMeans Clustering\n",
    "\n",
    "Define a model using <a href='http://scikit-learn.org/stable/modules/generated/sklearn.cluster.KMeans.html'>sklearn.cluster.kmeans</a><br>\n",
    "**Pick any value for the number of clusters for now. When you finish all parts to this question, you can come back and experiment.**<br>\n",
    "Print the model to see all the parameter values.<br>\n",
    "Then, fit the model to your normalized data. <br>\n",
    "Print the resulting cluster centers.<br><br>\n",
    "\n",
    "\n",
    "<i style='color:blue'>\n",
    "<ul><li>Output Required:<ul>\n",
    "        <li>Initialized K-Means model; shows all parameter values</li>\n",
    "        <li>list -- Cluster centers from fitted model</li>\n",
    "</ul></li></ul>"
   ]
  },
  {
   "cell_type": "code",
   "execution_count": null,
   "metadata": {},
   "outputs": [],
   "source": []
  },
  {
   "cell_type": "markdown",
   "metadata": {},
   "source": [
    "### 1.4 Visualize and Analyze Cluster Centers\n",
    "**a)**\n",
    "Create a Pandas DataFrame containing all the cluster centers.<br>\n",
    "You'll need to add a column titled 'cluster' containing the ID of the cluster. A cluster's ID is its index in the list you printed in **1.3**. Note that this process is shown in the k-means clustering notebook.<br>\n",
    "Print the entire resulting DataFrame.<br>\n",
    "\n",
    "\n",
    "<i style='color:blue'>\n",
    "<ul><li>Output Required:<ul>\n",
    "        <li>DataFrame -- Cluster centers dataframe<ul>\n",
    "            <li>Columns should be: TOTALREV, TFEDREV, TSTREV, TLOCREV, TOTALEXP, cluster</li></ul>\n",
    "        </li>\n",
    "</ul></li></ul>"
   ]
  },
  {
   "cell_type": "code",
   "execution_count": null,
   "metadata": {},
   "outputs": [],
   "source": []
  },
  {
   "cell_type": "markdown",
   "metadata": {},
   "source": [
    "**b)**\n",
    "Plot the resulting centers. Feel free to refer to the k-means notebook from day 4 that demos this. \n",
    "\n",
    "<i style='color:blue'>\n",
    "<ul><li>Output Required:<ul>\n",
    "        <li>Parallel plot like the one in 12_WeatherDataClusteringUsing-k-Means.ipynb</li>\n",
    "</ul></li></ul>"
   ]
  },
  {
   "cell_type": "code",
   "execution_count": null,
   "metadata": {},
   "outputs": [],
   "source": []
  },
  {
   "cell_type": "markdown",
   "metadata": {},
   "source": [
    "**c)**\n",
    "Create a new DataFrame by adding a `cluster` column to the original `edu_df` DataFrame. This is a convenient way of storing what cluster each sample belongs to.<br>\n",
    "There are multiple ways of getting cluster ID's for each sample from our mode, read the <a href='http://scikit-learn.org/stable/modules/generated/sklearn.cluster.KMeans.html'>docs</a> for ideas. Get these labels and concatenate them as a new column onto `edu_df`.<br><br>\n",
    "Print the DataFrame's shape and head.<br><br>\n",
    "\n",
    "\n",
    "<i style='color:blue'>\n",
    "<ul><li>Output Required:<ul>\n",
    "        <li>(tuple) DataFrame's shape</li>\n",
    "        <li>(DataFrame) The head of the DataFrame; should have cluster column</li>\n",
    "</ul></li></ul>"
   ]
  },
  {
   "cell_type": "code",
   "execution_count": null,
   "metadata": {},
   "outputs": [],
   "source": []
  },
  {
   "cell_type": "markdown",
   "metadata": {},
   "source": [
    "**d)**\n",
    "Print the size of each cluster (number of samples classified as that cluster) using the DataFrame created in **c**\n",
    "\n",
    "\n",
    "<i style='color:blue'>\n",
    "<ul><li>Output Required:<ul>\n",
    "        <li>(ints) A cluster ID and cluster size per cluster</li>\n",
    "</ul></li></ul>"
   ]
  },
  {
   "cell_type": "code",
   "execution_count": null,
   "metadata": {},
   "outputs": [],
   "source": []
  },
  {
   "cell_type": "markdown",
   "metadata": {},
   "source": [
    "### 1.5 Experiments (Open Ended)\n",
    "Return to **1.3** and try different values for k (n_clusters). Observe how your choice in k affects your results in **1.4**. Once you've tried a few different values, pick the one that you think is \"best\" and leave that as your argument when you submit this assignment. In this question, write a short paragraph explaining your observations and why you chose the k you did. Use these questions to guide your explanation. \n",
    "\n",
    "\n",
    "<i style='color:blue'>\n",
    "<ul><li>Output: Paragraph that answers these questions:<ul>\n",
    "        <li>How did different values of k affect cluster sizes?</li>        \n",
    "        <li>What k worked best?</li>\n",
    "        <li>What does best really mean here, though?</li>\n",
    "</ul></li></ul>"
   ]
  },
  {
   "cell_type": "markdown",
   "metadata": {},
   "source": [
    "--- respond here ---\n",
    "\n",
    "\n"
   ]
  },
  {
   "cell_type": "markdown",
   "metadata": {},
   "source": [
    "## Part 2: Regression (Education Finance Data and SAIPE Data)\n",
    "\n",
    "We will perform linear regression to use our financial data to predict poverty rates"
   ]
  },
  {
   "cell_type": "markdown",
   "metadata": {},
   "source": [
    "### 2.1 Merge Datasets\n",
    "We'll be using the `Poverty Percent, All Ages` column from `saipe_df` as our label.<br>\n",
    "In order to associate these labels with the correct counties, we must merge our two DataFrames using the county code.<br><br>\n",
    "\n",
    "Use `edu_df`'s `CONUM` column and `saipe_df`'s `County FIPS Code` column to merge the DataFrames.<br><br> Your end goal is to produce a DataFrame with the columns:<br> `CONUM`, `TOTALREV`, `TFEDREV`, `TSTREV`, `TLOCREV`, `TOTALEXP`, `Poverty Percent, All Ages`<br>\n",
    "It's important to inspect the head of the merged DataFrame before dropping the columns not listed above. This way, you can reassure yourself you merged the DataFrames properly.<br>\n",
    "\n",
    "<i style='color:blue'>\n",
    "<ul><li>Output Required:<ul>\n",
    "        <li>tuple     -- DataFrame's shape</li>\n",
    "        <li>DataFrame -- The head of the DataFrame (either with all the columns or just the ones listed above)</li>\n",
    "</ul></li></ul>"
   ]
  },
  {
   "cell_type": "code",
   "execution_count": null,
   "metadata": {},
   "outputs": [],
   "source": []
  },
  {
   "cell_type": "markdown",
   "metadata": {},
   "source": [
    "### 2.2 Train and test split\n",
    "Shuffle your data and then partition it into an 80%/20% train/test split.<br>\n",
    "Then, split up your train and test into a features DataFrame (X_train/X_test) and a labels DataFrame (y_train/y_test)<br>\n",
    "X_train and X_test should have these coluns: `TOTALREV`, `TFEDREV`, `TSTREV`, `TLOCREV`, `TOTALEXP`<br>\n",
    "y_train and y_test should have this column: `Poverty Percent, All Ages`<br>\n",
    "<br><br> \n",
    "\n",
    "\n",
    "<i style='color:blue'>\n",
    "<ul><li>Output Required:<ul>\n",
    "        <li>tuple -- X_train DataFrame shape</li>\n",
    "        <li>tuple -- y_train DataFrame shape</li>\n",
    "        <li>tuple -- X_test DataFrame shape</li>    \n",
    "        <li>tuple -- y_test DataFrame shape</li>\n",
    "</ul></li></ul>"
   ]
  },
  {
   "cell_type": "code",
   "execution_count": 28,
   "metadata": {},
   "outputs": [],
   "source": [
    "from sklearn.utils import shuffle\n",
    "\n"
   ]
  },
  {
   "cell_type": "markdown",
   "metadata": {},
   "source": [
    "### 2.3 Fit a regressor\n",
    "**a)**\n",
    "Create a <a href=\"http://scikit-learn.org/stable/modules/generated/sklearn.linear_model.LinearRegression.html\">linear regression model</a> and fit it to your training dataset.<br>\n",
    "\n",
    "<i style='color:blue'>\n",
    "    <ul>\n",
    "        <li>No output necessary</li>\n",
    "    </ul>\n",
    "</i>"
   ]
  },
  {
   "cell_type": "code",
   "execution_count": 29,
   "metadata": {},
   "outputs": [],
   "source": [
    "from sklearn.linear_model import LinearRegression\n",
    "from sklearn.metrics import mean_squared_error\n",
    "from math import sqrt\n"
   ]
  },
  {
   "cell_type": "markdown",
   "metadata": {},
   "source": [
    "**b)**\n",
    "Use your model to predict on your test set. Report the RMSE.\n",
    "\n",
    "<i style='color:blue'>\n",
    "<ul><li>Output: Paragraph that answers these questions:<ul>\n",
    "    <li>float -- RMSE</li>\n",
    "</ul></li></ul>"
   ]
  },
  {
   "cell_type": "code",
   "execution_count": null,
   "metadata": {},
   "outputs": [],
   "source": []
  }
 ],
 "metadata": {
  "anaconda-cloud": {},
  "kernelspec": {
   "display_name": "Python 3",
   "language": "python",
   "name": "python3"
  },
  "language_info": {
   "codemirror_mode": {
    "name": "ipython",
    "version": 3
   },
   "file_extension": ".py",
   "mimetype": "text/x-python",
   "name": "python",
   "nbconvert_exporter": "python",
   "pygments_lexer": "ipython3",
   "version": "3.6.5"
  }
 },
 "nbformat": 4,
 "nbformat_minor": 2
}
