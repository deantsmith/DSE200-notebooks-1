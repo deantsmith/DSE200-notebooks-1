{
 "cells": [
  {
   "cell_type": "markdown",
   "metadata": {},
   "source": [
    "# Assignment 3\n",
    "\n",
    "# MAS DSE200"
   ]
  },
  {
   "cell_type": "markdown",
   "metadata": {},
   "source": [
    "## Instructions\n",
    "\n",
    "* The answers to the questions should be submitted on github. \n",
    "* You don’t need to explain your approach (unless specified) so please be concise in your submission. \n",
    "* To obtain full marks for a question, both the answer and the code should be correct. \n",
    "* Completely wrong (or missing) code with correct answer will result in zero marks. \n",
    "* Please code the solution in the space provided."
   ]
  },
  {
   "cell_type": "markdown",
   "metadata": {},
   "source": [
    "### Imports"
   ]
  },
  {
   "cell_type": "code",
   "execution_count": 1,
   "metadata": {},
   "outputs": [],
   "source": [
    "import pandas as pd\n",
    "import numpy as np\n",
    "import random\n",
    "import matplotlib.pyplot as plt"
   ]
  },
  {
   "cell_type": "markdown",
   "metadata": {},
   "source": [
    "### Preliminaries\n",
    "\n",
    "Load the weather dataset into a Pandas DataFrame called weather_df."
   ]
  },
  {
   "cell_type": "code",
   "execution_count": 40,
   "metadata": {},
   "outputs": [],
   "source": [
    "weather_df = pd.read_csv('./daily_weather.csv', sep=',')"
   ]
  },
  {
   "cell_type": "markdown",
   "metadata": {},
   "source": [
    "### 1. Inspect data\n",
    "**Print the shape** of the DataFrame. Then, **display the first 10 entries** in the DataFrame to get an idea of what the columns are and what some values might look like."
   ]
  },
  {
   "cell_type": "code",
   "execution_count": null,
   "metadata": {},
   "outputs": [],
   "source": []
  },
  {
   "cell_type": "markdown",
   "metadata": {},
   "source": [
    "### 2. Exploratory Analysis: Missing Data    \n",
    "2a) Please **report how many values are missing (null) in each column**.<br>\n",
    "\n",
    "<i>Note that both a and b can be done in one line using the right Pandas functions)</i>"
   ]
  },
  {
   "cell_type": "code",
   "execution_count": null,
   "metadata": {},
   "outputs": [],
   "source": []
  },
  {
   "cell_type": "markdown",
   "metadata": {},
   "source": [
    "2b) **Remove all rows that have any missing values** from the DataFrame. <br>\n",
    "Print the shape of the DataFrame after the removal to confirm that the change took place."
   ]
  },
  {
   "cell_type": "code",
   "execution_count": null,
   "metadata": {},
   "outputs": [],
   "source": []
  },
  {
   "cell_type": "markdown",
   "metadata": {},
   "source": [
    "### 3. Temperature over time\n",
    "\n",
    "Let's see what kind of temperatures this weather station experienced. <br><br>\n",
    "3a) **Plot all the temperatures over time**\n",
    "<ul>\n",
    "    <li>The x-axis is the sample number</li>\n",
    "    <li>The y-axis is the temperature</li>\n",
    "    <li>Use either a scatter or line plot</li>\n",
    "    <li>Label <b>both</b> axes appropriately</li> \n",
    "    <li>Add an appropriate title</li>\n",
    "</ul>"
   ]
  },
  {
   "cell_type": "code",
   "execution_count": null,
   "metadata": {},
   "outputs": [],
   "source": []
  },
  {
   "cell_type": "markdown",
   "metadata": {},
   "source": [
    "3b) **Repeat part a**, but do it only for the **first 20 days** in the dataset.<br>\n",
    "(Once you've seen what a's plot looks like, you should have the urge to do this anyway)"
   ]
  },
  {
   "cell_type": "code",
   "execution_count": null,
   "metadata": {},
   "outputs": [],
   "source": []
  },
  {
   "cell_type": "markdown",
   "metadata": {},
   "source": [
    "### 4.  Rainfall\n",
    "\n",
    "**How many days** experienced any (nonzero) amount of rainfall? **What percentage** (up to 2 decimal places) of the total days does this make up?\n",
    "\n",
    "<i>If you're unsure how to round decimal values, treat this as an exercise in Googling. If you still have trouble, make a Piazza post!</i>"
   ]
  },
  {
   "cell_type": "code",
   "execution_count": null,
   "metadata": {},
   "outputs": [],
   "source": []
  },
  {
   "cell_type": "markdown",
   "metadata": {},
   "source": [
    "### 5. Temperature distribution\n",
    "\n",
    "Build a histogram using all the temperatures from the dataset. \n",
    "\n",
    "The x-axis should have 10 bins (ranges that the temperatures fall into, also called buckets). To be explicit, if you give pyplot your list of temperatures and 10 bins to put them in, your x-axis should look like this: [40,50,60,70,80,90,100].\n",
    "\n",
    "\n",
    "<ul>\n",
    "    <li>The x-axis is the temperature</li>\n",
    "    <li>The y-axis is the frequency</li>\n",
    "    <li>Use either a scatter or line plot</li>\n",
    "    <li>Label <b>both</b> axes appropriately</li> \n",
    "    <li>Add an appropriate title</li>\n",
    "</ul>"
   ]
  },
  {
   "cell_type": "code",
   "execution_count": null,
   "metadata": {},
   "outputs": [],
   "source": []
  },
  {
   "cell_type": "markdown",
   "metadata": {},
   "source": [
    "### 6. Relative humidity  vs. air temperature\n",
    "**6a)** **Plot** the air temperature vs relative humidity. \n",
    "\n",
    "<ul>\n",
    "    <li>The x-axis is the temperature</li>\n",
    "    <li>The y-axis is the relative humidity (please use the 9am measurement)</li>\n",
    "    <li>Use either a scatter or line plot</li>\n",
    "    <li>Label <b>both</b> axes appropriately</li> \n",
    "    <li>Add an appropriate title</li>\n",
    "</ul>"
   ]
  },
  {
   "cell_type": "code",
   "execution_count": null,
   "metadata": {},
   "outputs": [],
   "source": []
  },
  {
   "cell_type": "markdown",
   "metadata": {},
   "source": [
    "**6b)** **Calculate the correlation coefficients** of the same columns you plotted in part a. \n",
    "\n",
    "<i>Numpy has a convenient function to accomplish this, demoed in notebook 06_Matplotlib_Overview</i>"
   ]
  },
  {
   "cell_type": "code",
   "execution_count": null,
   "metadata": {},
   "outputs": [],
   "source": []
  },
  {
   "cell_type": "markdown",
   "metadata": {},
   "source": [
    "**6c)** In the markdown cell below, **write a couple sentences** that describe the relationship between relative humidity and air temperature in this dataset. Talk about things like:\n",
    "<ul>\n",
    "    <li>Are they correlated?</li>\n",
    "    <li>Positively or negatively?</li>\n",
    "    <li>Is this correlation strong or weak?</li>\n",
    "</ul>"
   ]
  },
  {
   "cell_type": "markdown",
   "metadata": {},
   "source": [
    "*Respond here*\n",
    "\n",
    "\n"
   ]
  }
 ],
 "metadata": {
  "anaconda-cloud": {},
  "kernelspec": {
   "display_name": "Python 3",
   "language": "python",
   "name": "python3"
  },
  "language_info": {
   "codemirror_mode": {
    "name": "ipython",
    "version": 3
   },
   "file_extension": ".py",
   "mimetype": "text/x-python",
   "name": "python",
   "nbconvert_exporter": "python",
   "pygments_lexer": "ipython3",
   "version": "3.6.5"
  }
 },
 "nbformat": 4,
 "nbformat_minor": 2
}
