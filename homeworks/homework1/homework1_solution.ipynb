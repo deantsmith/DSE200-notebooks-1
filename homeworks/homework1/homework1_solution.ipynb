{
 "cells": [
  {
   "cell_type": "markdown",
   "metadata": {},
   "source": [
    "# Assignment 1\n",
    "\n",
    "# MAS DSE200"
   ]
  },
  {
   "cell_type": "markdown",
   "metadata": {},
   "source": [
    "## Instructions\n",
    "\n",
    "* The answers to the questions should be submitted on github. \n",
    "* You don’t need to explain your approach (unless specified) so please be concise in your submission. \n",
    "* To obtain full marks for a question, both the answer and the code should be correct. \n",
    "* Completely wrong (or missing) code with correct answer will result in zero marks. \n",
    "* Please code the solution in the space provided."
   ]
  },
  {
   "cell_type": "markdown",
   "metadata": {},
   "source": [
    "# Part 1: Python"
   ]
  },
  {
   "cell_type": "markdown",
   "metadata": {},
   "source": [
    "**1.1**:  Write a program to swap 2 variables and print their data types\n",
    "\n",
    "* Initialize 2 variables my_int = 5 , and my_float = 1.5\n",
    "* Swap these variables such that my_int now holds the value of my_float and vice versa\n",
    "* Verify this by printing their data types "
   ]
  },
  {
   "cell_type": "code",
   "execution_count": 1,
   "metadata": {},
   "outputs": [
    {
     "name": "stdout",
     "output_type": "stream",
     "text": [
      "Value of my_int =  1.5\n",
      "Data type of my_int =  <class 'float'>\n",
      "Value of my_float =  5\n",
      "Data type of my_float =  <class 'int'>\n"
     ]
    }
   ],
   "source": [
    "# COMPLETE THE CELL BELOW \n",
    "\n",
    "my_int = 5\n",
    "my_float = 1.5\n",
    "\n",
    "temp = my_int\n",
    "my_int = my_float\n",
    "my_float = temp\n",
    "\n",
    "print (\"Value of my_int = \", my_int)\n",
    "print (\"Data type of my_int = \", type(my_int))\n",
    "print (\"Value of my_float = \",my_float)\n",
    "print (\"Data type of my_float = \", type(my_float))"
   ]
  },
  {
   "cell_type": "markdown",
   "metadata": {},
   "source": [
    "**1.2**  Write a Python Program to Calculate the Area of a Triangle\n",
    "\n",
    "* Initialize the 3 sides of the triangle a, b and c to 5, 6 and 7 \n",
    "* Calculate the semiperimeter using the formula - s = (a+b+c)/2\n",
    "* Calculate the area using the formula - area = √(s(s-a)*(s-b)*(s-c))"
   ]
  },
  {
   "cell_type": "code",
   "execution_count": 2,
   "metadata": {},
   "outputs": [
    {
     "name": "stdout",
     "output_type": "stream",
     "text": [
      "The area of the triangle is 14.70\n"
     ]
    }
   ],
   "source": [
    "# COMPLETE THE CELL BELOW \n",
    "\n",
    "a = 5\n",
    "b = 6\n",
    "c = 7\n",
    "\n",
    "s = (a+b+c)/2 # calculate the semi-perimeter\n",
    "area = (s*(s-a)*(s-b)*(s-c))**0.5  # calculate the area\n",
    "\n",
    "print('The area of the triangle is %0.2f' %area)"
   ]
  },
  {
   "cell_type": "markdown",
   "metadata": {},
   "source": [
    "**1.3**: Write a Python Program to Check if a Number is Odd or Even\n",
    "\n",
    "* Initialize a variable that takes input from user\n",
    "* Check and print if the number is odd or even"
   ]
  },
  {
   "cell_type": "code",
   "execution_count": 3,
   "metadata": {},
   "outputs": [
    {
     "name": "stdout",
     "output_type": "stream",
     "text": [
      "Number is even\n"
     ]
    }
   ],
   "source": [
    "# COMPLETE CELL BELOW\n",
    "\n",
    "num = 8# Enter a number\n",
    "if num%2 == 0:\n",
    "    print(\"Number is even\")\n",
    "else:\n",
    "    print(\"Number is odd\")"
   ]
  },
  {
   "cell_type": "markdown",
   "metadata": {},
   "source": [
    "**1.4**: Write a Python Program to Check Whether a String is Palindrome or Not\n",
    "\n",
    "* Initialize a string\n",
    "* Lower case it to allow easy comparison\n",
    "* Check using if-else statements if the string is a palindrome \n",
    "* A palindrome is a string which is same read forward or backwards."
   ]
  },
  {
   "cell_type": "code",
   "execution_count": 4,
   "metadata": {},
   "outputs": [
    {
     "name": "stdout",
     "output_type": "stream",
     "text": [
      "String is not a palindrome\n"
     ]
    }
   ],
   "source": [
    "# COMPLETE CELL BELOW \n",
    "\n",
    "my_str = 'palindrome' # change this value for a different output\n",
    "\n",
    "my_str = my_str.lower()\n",
    "if my_str == my_str[::-1]:\n",
    "    print (\"String is a palindrome\")\n",
    "else:\n",
    "    print (\"String is not a palindrome\")"
   ]
  },
  {
   "cell_type": "markdown",
   "metadata": {},
   "source": [
    "**1.6**  **Print numbers divisible by 3 between 1 and 20, inclusive**\n",
    "\n",
    "* Take upper limit 20 using range\n",
    "* Iterate through these numbers using for loop\n",
    "* Print only a number divisible by 3 using if"
   ]
  },
  {
   "cell_type": "code",
   "execution_count": 5,
   "metadata": {},
   "outputs": [
    {
     "name": "stdout",
     "output_type": "stream",
     "text": [
      "0\n",
      "3\n",
      "6\n",
      "9\n",
      "12\n",
      "15\n",
      "18\n"
     ]
    }
   ],
   "source": [
    "# COMPLETE THE CELL BELOW \n",
    "\n",
    "limit = range(20)\n",
    "for number in limit: # Complete the loop\n",
    "    if number%3 == 0:\n",
    "        print(number)"
   ]
  },
  {
   "cell_type": "markdown",
   "metadata": {},
   "source": [
    "**1.7** Write a Python Program to print the following pattern\n",
    "\n",
    "* Initialize a variable n that denotes the number of lines\n",
    "* Use nested for loops to print the following pattern \n",
    "\n",
    "1<br>\n",
    "1 2<br>\n",
    "1 2 3<br> \n",
    "1 2 3 4<br> \n",
    "1 2 3 4 5<br> "
   ]
  },
  {
   "cell_type": "code",
   "execution_count": 6,
   "metadata": {},
   "outputs": [
    {
     "name": "stdout",
     "output_type": "stream",
     "text": [
      "1 \r\n",
      "1 2 \r\n",
      "1 2 3 \r\n",
      "1 2 3 4 \r\n",
      "1 2 3 4 5 \r\n"
     ]
    }
   ],
   "source": [
    "# COMPLETE CELL BELOW\n",
    "\n",
    "n = 5 \n",
    "for i in range(0, n): \n",
    "        num = 1\n",
    "        for j in range(0, i+1): \n",
    "            print(num, end=\" \") \n",
    "            num = num + 1\n",
    "        print(\"\\r\") "
   ]
  },
  {
   "cell_type": "code",
   "execution_count": 7,
   "metadata": {},
   "outputs": [
    {
     "name": "stdout",
     "output_type": "stream",
     "text": [
      "1\n",
      "1 2\n",
      "1 2 3\n",
      "1 2 3 4\n",
      "1 2 3 4 5\n"
     ]
    }
   ],
   "source": [
    "\n",
    "\n",
    "# COMPLETE CELL BELOW\n",
    "\n",
    "n = 5 \n",
    "for number in range(1,n+1):\n",
    "    print(*range(1,number+1)) #print without a quotation/bracket\n",
    "\n"
   ]
  },
  {
   "cell_type": "markdown",
   "metadata": {},
   "source": [
    "### 1.8 Write a Python Program that defines a function to Remove Punctuations From a String\n",
    "\n",
    "* You can initialize a string of your choice \n",
    "* Define the function \n",
    "* Use a for loop to remove punctuations"
   ]
  },
  {
   "cell_type": "code",
   "execution_count": 8,
   "metadata": {},
   "outputs": [
    {
     "name": "stdout",
     "output_type": "stream",
     "text": [
      "Hello he said and went\n"
     ]
    }
   ],
   "source": [
    "# COMPLETE THE CELL BELOW \n",
    "\n",
    "punctuations = '''!()-[]{};:'\"\\,<>./?@#$%^&*_~''' \n",
    "\n",
    "def removePunc(s): \n",
    "\n",
    "    no_punct = \"\"\n",
    "    for char in my_str:\n",
    "        if char not in punctuations:\n",
    "               no_punct = no_punct + char\n",
    "    return no_punct\n",
    "\n",
    "my_str = \"Hello!!!, he said ---and went.\"\n",
    "print (removePunc(my_str))"
   ]
  },
  {
   "cell_type": "code",
   "execution_count": 9,
   "metadata": {},
   "outputs": [
    {
     "name": "stdout",
     "output_type": "stream",
     "text": [
      "Hello he said and went\n"
     ]
    }
   ],
   "source": [
    "# OR use a list comprehension \n",
    "\n",
    "def removePunc(s): \n",
    "    return ''.join([c for c in s if c not in punctuations])\n",
    "\n",
    "\n",
    "my_str = \"Hello!!!, he said ---and went.\"\n",
    "print (removePunc(my_str))"
   ]
  },
  {
   "cell_type": "markdown",
   "metadata": {},
   "source": [
    "### 1.9 **Write a program to define a function that takes a limit as a parameter and returns the sum of all numbers upto that limit (exclusive)**\n",
    "\n",
    "* You can define a limit of your choice \n",
    "* Define the function \n",
    "* Use a for loop to add numbers upto the limit"
   ]
  },
  {
   "cell_type": "code",
   "execution_count": 10,
   "metadata": {},
   "outputs": [
    {
     "name": "stdout",
     "output_type": "stream",
     "text": [
      "Result is 10\n"
     ]
    }
   ],
   "source": [
    "# COMPLETE THE CELL BELOW \n",
    "\n",
    "def sum(limit): # Complete the function using a for loop and range\n",
    "    total = 0\n",
    "    for i in range(limit):\n",
    "        total += i\n",
    "    return total\n",
    "limit = 5 # Define a limit of your choice \n",
    "total = sum(limit)\n",
    "print (\"Result is\", total)"
   ]
  },
  {
   "cell_type": "markdown",
   "metadata": {},
   "source": [
    "### 1.10 Define a class named Rectangle that can calculate the area\n",
    "\n",
    "* The class can be constructed by a length and width\n",
    "* The class has a method which can compute the area "
   ]
  },
  {
   "cell_type": "code",
   "execution_count": 11,
   "metadata": {},
   "outputs": [
    {
     "name": "stdout",
     "output_type": "stream",
     "text": [
      "Areaof rectangle is  10\n"
     ]
    }
   ],
   "source": [
    "# COMPLETE CELL BELOW \n",
    "\n",
    "class Rectangle(object):\n",
    "    def __init__(self, l, w):\n",
    "        self.length = l\n",
    "        self.width = w\n",
    "        \n",
    "    def area(self):\n",
    "        return self.length * self.width\n",
    "    \n",
    "rect_obj = Rectangle(5,2)\n",
    "\n",
    "print(\"Areaof rectangle is \", rect_obj.area())"
   ]
  },
  {
   "cell_type": "markdown",
   "metadata": {},
   "source": [
    "# Part 2: Numpy"
   ]
  },
  {
   "cell_type": "markdown",
   "metadata": {},
   "source": [
    "### Data\n",
    "\n",
    "Download the `wine_data.csv` and `wine_modified.csv` data from tritoned and place the file in the same folder as this jupyter notebook."
   ]
  },
  {
   "cell_type": "code",
   "execution_count": 5,
   "metadata": {},
   "outputs": [],
   "source": [
    "import numpy as np\n",
    "\n",
    "raw_data = np.genfromtxt('./wine_data.csv', delimiter=',')[1:]"
   ]
  },
  {
   "cell_type": "markdown",
   "metadata": {},
   "source": [
    "**2.1**: Write code to find out how many unique classes are there in the dataset."
   ]
  },
  {
   "cell_type": "code",
   "execution_count": 6,
   "metadata": {},
   "outputs": [
    {
     "data": {
      "text/plain": [
       "array([1., 2., 3.])"
      ]
     },
     "execution_count": 6,
     "metadata": {},
     "output_type": "execute_result"
    }
   ],
   "source": [
    "np.unique(raw_data[:, -1])"
   ]
  },
  {
   "cell_type": "markdown",
   "metadata": {},
   "source": [
    "**2.2**: Calculate the row-wise sum of the data."
   ]
  },
  {
   "cell_type": "code",
   "execution_count": 7,
   "metadata": {},
   "outputs": [
    {
     "data": {
      "text/plain": [
       "array([ 671.31    ,  614.91    , 1461.      ,  428.88    , 1671.6     ,\n",
       "        570.3     ,  869.35    ,  666.42    ,  625.29    ,  527.67    ,\n",
       "       1142.64    , 1292.52    ,  878.19    ,  631.12    ,  643.34    ,\n",
       "        519.77    ,  659.51    ,  505.84    , 1702.52    ,  720.6     ,\n",
       "       1302.79    ,  589.55    ,  630.72    ,  608.74    , 1445.95    ,\n",
       "       1437.46    ,  611.059999, 1044.5     ,  966.36    , 1355.12    ,\n",
       "        827.59    , 1197.46    , 1616.23    ,  525.59    ,  927.08    ,\n",
       "        832.4     , 1248.08    ,  597.72    ,  700.57    ,  809.24    ,\n",
       "        524.49    ,  656.85    ,  458.7     ,  762.32    , 1413.44    ,\n",
       "        560.86    ,  827.85    ,  547.32    ,  723.56    ,  761.33    ,\n",
       "       1139.88    ,  413.33    ,  601.6     , 1428.11    , 1469.78    ,\n",
       "        697.57    ,  799.59    ,  714.3     ,  543.88    ,  498.54    ,\n",
       "       1021.236   , 1039.27    ,  747.92    ,  841.02    ,  673.33    ,\n",
       "        507.9     ,  915.92    , 1677.79    ,  921.95    , 1293.9     ,\n",
       "       1426.28    , 1195.1     ,  516.27    ,  637.38    ,  830.23    ,\n",
       "        656.41    ,  706.38    ,  453.9     ,  911.74    ,  831.01    ,\n",
       "        597.8     ,  995.46    , 1013.93    , 1021.28    ,  815.78    ,\n",
       "        940.76    ,  825.08    ,  721.66    ,  572.49    ,  465.1     ,\n",
       "        855.95    , 1076.61    , 1291.68    ,  684.17    ,  713.58    ,\n",
       "        639.76    , 1192.82    ,  652.03    , 1544.67    ,  909.69    ])"
      ]
     },
     "execution_count": 7,
     "metadata": {},
     "output_type": "execute_result"
    }
   ],
   "source": [
    "raw_data.sum(axis=1)"
   ]
  },
  {
   "cell_type": "markdown",
   "metadata": {},
   "source": [
    "**2.3**: Calculate the column-wise mean of the data."
   ]
  },
  {
   "cell_type": "code",
   "execution_count": 8,
   "metadata": {},
   "outputs": [
    {
     "data": {
      "text/plain": [
       "array([1.29517000e+01, 2.36250000e+00, 2.32670000e+00, 1.93720000e+01,\n",
       "       9.80500000e+01, 2.25280000e+00, 1.98770000e+00, 3.68700000e-01,\n",
       "       1.59900000e+00, 4.99539999e+00, 9.73760000e-01, 2.60500000e+00,\n",
       "       7.17770000e+02, 1.94000000e+00])"
      ]
     },
     "execution_count": 8,
     "metadata": {},
     "output_type": "execute_result"
    }
   ],
   "source": [
    "raw_data.mean(axis=0)"
   ]
  },
  {
   "cell_type": "markdown",
   "metadata": {},
   "source": [
    "**2.4**: Calculate the class-wise mean and standard deviation of the each column."
   ]
  },
  {
   "cell_type": "code",
   "execution_count": 9,
   "metadata": {},
   "outputs": [
    {
     "name": "stdout",
     "output_type": "stream",
     "text": [
      "Class 1: \n",
      "\tMean:  [1.37835484e+01 1.99774194e+00 2.43225806e+00 1.69645161e+01\n",
      " 1.05967742e+02 2.87806452e+00 3.01935484e+00 2.90000000e-01\n",
      " 2.00193548e+00 5.72774194e+00 1.06290323e+00 3.17129032e+00\n",
      " 1.12425806e+03 1.00000000e+00]\n",
      "\tSTD:  [4.83458964e-01 6.73032184e-01 2.43730545e-01 3.22085426e+00\n",
      " 1.03065400e+01 3.07523084e-01 3.90036685e-01 7.02529990e-02\n",
      " 4.26224379e-01 1.19693347e+00 1.04517125e-01 3.11994023e-01\n",
      " 2.33113010e+02 0.00000000e+00]\n",
      "\n",
      "Class 2: \n",
      "\tMean:  [1.22415909e+01 2.10977273e+00 2.18863636e+00 1.97909091e+01\n",
      " 9.16136364e+01 2.15227273e+00 1.93113636e+00 3.81136364e-01\n",
      " 1.55863636e+00 2.99909091e+00 1.07331818e+00 2.72613636e+00\n",
      " 4.85681818e+02 2.00000000e+00]\n",
      "\tSTD:  [4.80562848e-01 1.16372929e+00 2.97684938e-01 2.99369171e+00\n",
      " 1.29828837e+01 4.73112824e-01 5.66441106e-01 1.23052389e-01\n",
      " 6.10962694e-01 9.87360619e-01 2.23113890e-01 5.19589943e-01\n",
      " 1.30644168e+02 0.00000000e+00]\n",
      "\n",
      "Class 3: \n",
      "\tMean:  [1.31700000e+01 3.25960000e+00 2.43880000e+00 2.16200000e+01\n",
      " 9.95600000e+01 1.65440000e+00 8.08000000e-01 4.44400000e-01\n",
      " 1.17040000e+00 7.60079996e+00 6.88000000e-01 1.68960000e+00\n",
      " 6.22200000e+02 3.00000000e+00]\n",
      "\tSTD:  [5.66815667e-01 1.03045419e+00 1.81644048e-01 2.64680940e+00\n",
      " 1.05264619e+01 3.47264510e-01 3.12294733e-01 1.34939394e-01\n",
      " 4.42207915e-01 2.37146182e+00 1.07777549e-01 2.70281039e-01\n",
      " 1.18727250e+02 0.00000000e+00]\n"
     ]
    }
   ],
   "source": [
    "## SOLUTION 4\n",
    "print(\"Class 1: \")\n",
    "print(\"\\tMean: \", raw_data[raw_data[:, -1] == 1].mean(axis=0))\n",
    "print(\"\\tSTD: \", raw_data[raw_data[:, -1] == 1].std(axis=0))\n",
    "\n",
    "print(\"\\nClass 2: \")\n",
    "print(\"\\tMean: \", raw_data[raw_data[:, -1] == 2].mean(axis=0))\n",
    "print(\"\\tSTD: \", raw_data[raw_data[:, -1] == 2].std(axis=0))\n",
    "\n",
    "print(\"\\nClass 3: \")\n",
    "print(\"\\tMean: \", raw_data[raw_data[:, -1] == 3].mean(axis=0))\n",
    "print(\"\\tSTD: \", raw_data[raw_data[:, -1] == 3].std(axis=0))"
   ]
  },
  {
   "cell_type": "markdown",
   "metadata": {},
   "source": [
    "Use `wine_modified.csv` for the following questions."
   ]
  },
  {
   "cell_type": "code",
   "execution_count": 13,
   "metadata": {},
   "outputs": [],
   "source": [
    "import numpy as np\n",
    "raw_data = np.genfromtxt('./wine_modified.csv', delimiter=',')[1:]\n"
   ]
  },
  {
   "cell_type": "markdown",
   "metadata": {},
   "source": [
    "**2.5** (optional): Remove the rows with missing labels (’class’) and rows with more than 7 missing features. Report the remaining number of rows."
   ]
  },
  {
   "cell_type": "code",
   "execution_count": 15,
   "metadata": {},
   "outputs": [
    {
     "name": "stdout",
     "output_type": "stream",
     "text": [
      "(178, 14)\n",
      "(168, 14)\n",
      "(163, 14)\n"
     ]
    }
   ],
   "source": [
    "\n",
    "columns = open('./wine_modified.csv', 'r').readline().strip().split(',')\n",
    "\n",
    "\n",
    "## SOLUTION 5\n",
    "print(raw_data.shape)\n",
    "classes_filter_data = raw_data[~np.isnan(raw_data[:,-1])]\n",
    "print(raw_data.shape)\n",
    "filtered_data = classes_filter_data[np.count_nonzero(np.isnan(classes_filter_data),axis=1) < 7 ]\n",
    "print(filtered_data.shape)\n",
    "\n"
   ]
  },
  {
   "cell_type": "code",
   "execution_count": 23,
   "metadata": {},
   "outputs": [
    {
     "name": "stdout",
     "output_type": "stream",
     "text": [
      "178\n",
      "163\n",
      "(154, 14)\n"
     ]
    },
    {
     "data": {
      "text/plain": [
       "154"
      ]
     },
     "execution_count": 23,
     "metadata": {},
     "output_type": "execute_result"
    }
   ],
   "source": [
    "# Get columns\n",
    "columns = open('./wine_modified.csv', 'r').readline().strip().split(',')\n",
    "\n",
    "print(len(raw_data))\n",
    "\n",
    "# remove the rows with more than 7 missing features\n",
    "raw_data = raw_data[np.isnan(raw_data).sum(axis=1)<=7]\n",
    "print(len(raw_data))\n",
    "\n",
    "# remove the rows with missing labels\n",
    "raw_data = raw_data[~np.isnan(raw_data[:, columns.index('class')])]\n",
    "print(raw_data.shape)\n",
    "\n",
    "# get the number of rows\n",
    "raw_data.shape[0]"
   ]
  },
  {
   "cell_type": "code",
   "execution_count": 4,
   "metadata": {},
   "outputs": [
    {
     "data": {
      "text/plain": [
       "<ufunc 'isnan'>"
      ]
     },
     "execution_count": 4,
     "metadata": {},
     "output_type": "execute_result"
    }
   ],
   "source": [
    "import numpy as np\n",
    "np.isnan"
   ]
  },
  {
   "cell_type": "markdown",
   "metadata": {},
   "source": [
    "**2.6** (optional): Remove features with >50% of missing values. For other features with missing values fill them with the mean of the corresponding features. Report the removed features (if any) and standard deviation of features with missing values after filling."
   ]
  },
  {
   "cell_type": "code",
   "execution_count": 24,
   "metadata": {},
   "outputs": [
    {
     "name": "stdout",
     "output_type": "stream",
     "text": [
      "Removed columns:  [3]\n",
      "Removed features:  ['Ash']\n",
      "Standard deviation for feature ( Magnesium ):  14.393416666995842\n",
      "Standard deviation for feature ( Flavanoids ):  0.8707323233936536\n"
     ]
    }
   ],
   "source": [
    "## SOLUTION 6\n",
    "#raw_data = np.genfromtxt('./wine_modified.csv', delimiter=',')[1:]\n",
    "\n",
    "# get columns with > 50% missing values\n",
    "remove_columns = np.where(np.isnan(raw_data).sum(axis=0) > (raw_data.shape[0] / 2))[0]\n",
    "print(\"Removed columns: \", remove_columns)\n",
    "print(\"Removed features: \", [columns[i] for i in remove_columns])\n",
    "\n",
    "# bookkeeping\n",
    "for column in remove_columns:\n",
    "    del columns[column]\n",
    "\n",
    "# remove those columns\n",
    "raw_data = np.delete(raw_data, remove_columns, axis=1)\n",
    "\n",
    "# get column with missing values\n",
    "null_columns = np.where(np.isnan(raw_data).sum(axis=0) > 0)[0]\n",
    "\n",
    "# Obtain mean of columns as you need, nanmean is just convenient, ignores NaN\n",
    "col_mean = np.nanmean(raw_data, axis=0)\n",
    "\n",
    "# Find indices that you need to replace\n",
    "inds = np.where(np.isnan(raw_data))\n",
    "\n",
    "# Place column means in the indices. Align the arrays using take\n",
    "raw_data[inds] = np.take(col_mean, inds[1])\n",
    "\n",
    "for i in null_columns:\n",
    "    print(\"Standard deviation for feature (\", columns[i], \"): \", raw_data[:, i].std(axis=0))\n"
   ]
  },
  {
   "cell_type": "markdown",
   "metadata": {},
   "source": [
    "**2.7** (optional): Detect and remove rows with any outliers/incorrect values in features ’alcohol’ and ’proline’ (if any). Clearly state the basis of your removal in comments."
   ]
  },
  {
   "cell_type": "code",
   "execution_count": 20,
   "metadata": {},
   "outputs": [],
   "source": [
    "## SOLUTION 7\n",
    "\n",
    "# get feature indices\n",
    "features = np.array([columns.index(feat_name) for feat_name in ['Alcohol', 'Proline']])\n",
    "\n",
    "# get mean and std for columns\n",
    "mu = np.mean(raw_data[:, features], axis=0), \n",
    "sigma = np.std(raw_data[:, features], axis=0, ddof=1)\n",
    "\n",
    "# remove rows with outliers\n",
    "raw_data = raw_data[np.all(np.abs((raw_data[:, features] - mu) / sigma) < 1, axis=1)]#.shape"
   ]
  },
  {
   "cell_type": "code",
   "execution_count": 21,
   "metadata": {},
   "outputs": [
    {
     "name": "stdout",
     "output_type": "stream",
     "text": [
      "[[1.000e+00 1.324e+01 2.590e+00 ... 1.040e+00 2.930e+00 7.350e+02]\n",
      " [1.000e+00 1.364e+01 3.100e+00 ... 9.600e-01 3.360e+00 8.450e+02]\n",
      " [1.000e+00 1.406e+01 1.630e+00 ... 1.090e+00 3.710e+00 7.800e+02]\n",
      " ...\n",
      " [3.000e+00 1.327e+01 4.280e+00 ... 5.900e-01 1.560e+00 8.350e+02]\n",
      " [3.000e+00 1.317e+01 2.590e+00 ... 6.000e-01 1.620e+00 8.400e+02]\n",
      " [3.000e+00 1.413e+01 4.100e+00 ... 6.100e-01 1.600e+00 5.600e+02]]\n",
      "(98, 13)\n"
     ]
    }
   ],
   "source": [
    "print(raw_data)\n",
    "print(raw_data.shape)"
   ]
  },
  {
   "cell_type": "code",
   "execution_count": 26,
   "metadata": {},
   "outputs": [
    {
     "data": {
      "text/plain": [
       "'olleh'"
      ]
     },
     "execution_count": 26,
     "metadata": {},
     "output_type": "execute_result"
    }
   ],
   "source": [
    "s = 'hello'\n",
    "s[-1::-1]"
   ]
  },
  {
   "cell_type": "code",
   "execution_count": null,
   "metadata": {},
   "outputs": [],
   "source": []
  }
 ],
 "metadata": {
  "anaconda-cloud": {},
  "kernelspec": {
   "display_name": "Python 3",
   "language": "python",
   "name": "python3"
  },
  "language_info": {
   "codemirror_mode": {
    "name": "ipython",
    "version": 3
   },
   "file_extension": ".py",
   "mimetype": "text/x-python",
   "name": "python",
   "nbconvert_exporter": "python",
   "pygments_lexer": "ipython3",
   "version": "3.6.5"
  }
 },
 "nbformat": 4,
 "nbformat_minor": 2
}
