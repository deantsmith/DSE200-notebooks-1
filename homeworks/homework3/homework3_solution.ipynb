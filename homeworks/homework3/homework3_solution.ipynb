{
 "cells": [
  {
   "cell_type": "markdown",
   "metadata": {},
   "source": [
    "# Assignment 3\n",
    "\n",
    "# MAS DSE200"
   ]
  },
  {
   "cell_type": "markdown",
   "metadata": {},
   "source": [
    "## Instructions\n",
    "\n",
    "* The answers to the questions should be submitted on github. \n",
    "* You don’t need to explain your approach (unless specified) so please be concise in your submission. \n",
    "* To obtain full marks for a question, both the answer and the code should be correct. \n",
    "* Completely wrong (or missing) code with correct answer will result in zero marks. \n",
    "* Please code the solution in the space provided."
   ]
  },
  {
   "cell_type": "markdown",
   "metadata": {},
   "source": [
    "### Imports"
   ]
  },
  {
   "cell_type": "code",
   "execution_count": 4,
   "metadata": {},
   "outputs": [],
   "source": [
    "import pandas as pd\n",
    "import numpy as np\n",
    "import random\n",
    "import matplotlib.pyplot as plt"
   ]
  },
  {
   "cell_type": "markdown",
   "metadata": {},
   "source": [
    "### Preliminaries\n",
    "\n",
    "Load the weather dataset into a Pandas DataFrame called weather_df."
   ]
  },
  {
   "cell_type": "code",
   "execution_count": 5,
   "metadata": {},
   "outputs": [],
   "source": [
    "weather_df = pd.read_csv('./daily_weather.csv', sep=',')"
   ]
  },
  {
   "cell_type": "markdown",
   "metadata": {},
   "source": [
    "### 1. Inspect data\n",
    "**Print the shape** of the DataFrame. Then, **display the first 10 entries** in the DataFrame to get an idea of what the columns are and what some values might look like."
   ]
  },
  {
   "cell_type": "code",
   "execution_count": 6,
   "metadata": {},
   "outputs": [
    {
     "name": "stdout",
     "output_type": "stream",
     "text": [
      "(1095, 11)\n"
     ]
    },
    {
     "data": {
      "text/html": [
       "<div>\n",
       "<style scoped>\n",
       "    .dataframe tbody tr th:only-of-type {\n",
       "        vertical-align: middle;\n",
       "    }\n",
       "\n",
       "    .dataframe tbody tr th {\n",
       "        vertical-align: top;\n",
       "    }\n",
       "\n",
       "    .dataframe thead th {\n",
       "        text-align: right;\n",
       "    }\n",
       "</style>\n",
       "<table border=\"1\" class=\"dataframe\">\n",
       "  <thead>\n",
       "    <tr style=\"text-align: right;\">\n",
       "      <th></th>\n",
       "      <th>number</th>\n",
       "      <th>air_pressure_9am</th>\n",
       "      <th>air_temp_9am</th>\n",
       "      <th>avg_wind_direction_9am</th>\n",
       "      <th>avg_wind_speed_9am</th>\n",
       "      <th>max_wind_direction_9am</th>\n",
       "      <th>max_wind_speed_9am</th>\n",
       "      <th>rain_accumulation_9am</th>\n",
       "      <th>rain_duration_9am</th>\n",
       "      <th>relative_humidity_9am</th>\n",
       "      <th>relative_humidity_3pm</th>\n",
       "    </tr>\n",
       "  </thead>\n",
       "  <tbody>\n",
       "    <tr>\n",
       "      <th>0</th>\n",
       "      <td>0</td>\n",
       "      <td>918.060000</td>\n",
       "      <td>74.822000</td>\n",
       "      <td>271.100000</td>\n",
       "      <td>2.080354</td>\n",
       "      <td>295.400000</td>\n",
       "      <td>2.863283</td>\n",
       "      <td>0.00</td>\n",
       "      <td>0.0</td>\n",
       "      <td>42.420000</td>\n",
       "      <td>36.160000</td>\n",
       "    </tr>\n",
       "    <tr>\n",
       "      <th>1</th>\n",
       "      <td>1</td>\n",
       "      <td>917.347688</td>\n",
       "      <td>71.403843</td>\n",
       "      <td>101.935179</td>\n",
       "      <td>2.443009</td>\n",
       "      <td>140.471548</td>\n",
       "      <td>3.533324</td>\n",
       "      <td>0.00</td>\n",
       "      <td>0.0</td>\n",
       "      <td>24.328697</td>\n",
       "      <td>19.426597</td>\n",
       "    </tr>\n",
       "    <tr>\n",
       "      <th>2</th>\n",
       "      <td>2</td>\n",
       "      <td>923.040000</td>\n",
       "      <td>60.638000</td>\n",
       "      <td>51.000000</td>\n",
       "      <td>17.067852</td>\n",
       "      <td>63.700000</td>\n",
       "      <td>22.100967</td>\n",
       "      <td>0.00</td>\n",
       "      <td>20.0</td>\n",
       "      <td>8.900000</td>\n",
       "      <td>14.460000</td>\n",
       "    </tr>\n",
       "    <tr>\n",
       "      <th>3</th>\n",
       "      <td>3</td>\n",
       "      <td>920.502751</td>\n",
       "      <td>70.138895</td>\n",
       "      <td>198.832133</td>\n",
       "      <td>4.337363</td>\n",
       "      <td>211.203341</td>\n",
       "      <td>5.190045</td>\n",
       "      <td>0.00</td>\n",
       "      <td>0.0</td>\n",
       "      <td>12.189102</td>\n",
       "      <td>12.742547</td>\n",
       "    </tr>\n",
       "    <tr>\n",
       "      <th>4</th>\n",
       "      <td>4</td>\n",
       "      <td>921.160000</td>\n",
       "      <td>44.294000</td>\n",
       "      <td>277.800000</td>\n",
       "      <td>1.856660</td>\n",
       "      <td>136.500000</td>\n",
       "      <td>2.863283</td>\n",
       "      <td>8.90</td>\n",
       "      <td>14730.0</td>\n",
       "      <td>92.410000</td>\n",
       "      <td>76.740000</td>\n",
       "    </tr>\n",
       "    <tr>\n",
       "      <th>5</th>\n",
       "      <td>5</td>\n",
       "      <td>915.300000</td>\n",
       "      <td>78.404000</td>\n",
       "      <td>182.800000</td>\n",
       "      <td>9.932014</td>\n",
       "      <td>189.000000</td>\n",
       "      <td>10.983375</td>\n",
       "      <td>0.02</td>\n",
       "      <td>170.0</td>\n",
       "      <td>35.130000</td>\n",
       "      <td>33.930000</td>\n",
       "    </tr>\n",
       "    <tr>\n",
       "      <th>6</th>\n",
       "      <td>6</td>\n",
       "      <td>915.598868</td>\n",
       "      <td>70.043304</td>\n",
       "      <td>177.875407</td>\n",
       "      <td>3.745587</td>\n",
       "      <td>186.606696</td>\n",
       "      <td>4.589632</td>\n",
       "      <td>0.00</td>\n",
       "      <td>0.0</td>\n",
       "      <td>10.657422</td>\n",
       "      <td>21.385657</td>\n",
       "    </tr>\n",
       "    <tr>\n",
       "      <th>7</th>\n",
       "      <td>7</td>\n",
       "      <td>918.070000</td>\n",
       "      <td>51.710000</td>\n",
       "      <td>242.400000</td>\n",
       "      <td>2.527742</td>\n",
       "      <td>271.600000</td>\n",
       "      <td>3.646212</td>\n",
       "      <td>0.00</td>\n",
       "      <td>0.0</td>\n",
       "      <td>80.470000</td>\n",
       "      <td>74.920000</td>\n",
       "    </tr>\n",
       "    <tr>\n",
       "      <th>8</th>\n",
       "      <td>8</td>\n",
       "      <td>920.080000</td>\n",
       "      <td>80.582000</td>\n",
       "      <td>40.700000</td>\n",
       "      <td>4.518619</td>\n",
       "      <td>63.000000</td>\n",
       "      <td>5.883152</td>\n",
       "      <td>0.00</td>\n",
       "      <td>0.0</td>\n",
       "      <td>29.580000</td>\n",
       "      <td>24.030000</td>\n",
       "    </tr>\n",
       "    <tr>\n",
       "      <th>9</th>\n",
       "      <td>9</td>\n",
       "      <td>915.010000</td>\n",
       "      <td>47.498000</td>\n",
       "      <td>163.100000</td>\n",
       "      <td>4.943637</td>\n",
       "      <td>195.900000</td>\n",
       "      <td>6.576604</td>\n",
       "      <td>0.00</td>\n",
       "      <td>0.0</td>\n",
       "      <td>88.600000</td>\n",
       "      <td>68.050000</td>\n",
       "    </tr>\n",
       "  </tbody>\n",
       "</table>\n",
       "</div>"
      ],
      "text/plain": [
       "   number  air_pressure_9am  air_temp_9am  avg_wind_direction_9am  \\\n",
       "0       0        918.060000     74.822000              271.100000   \n",
       "1       1        917.347688     71.403843              101.935179   \n",
       "2       2        923.040000     60.638000               51.000000   \n",
       "3       3        920.502751     70.138895              198.832133   \n",
       "4       4        921.160000     44.294000              277.800000   \n",
       "5       5        915.300000     78.404000              182.800000   \n",
       "6       6        915.598868     70.043304              177.875407   \n",
       "7       7        918.070000     51.710000              242.400000   \n",
       "8       8        920.080000     80.582000               40.700000   \n",
       "9       9        915.010000     47.498000              163.100000   \n",
       "\n",
       "   avg_wind_speed_9am  max_wind_direction_9am  max_wind_speed_9am  \\\n",
       "0            2.080354              295.400000            2.863283   \n",
       "1            2.443009              140.471548            3.533324   \n",
       "2           17.067852               63.700000           22.100967   \n",
       "3            4.337363              211.203341            5.190045   \n",
       "4            1.856660              136.500000            2.863283   \n",
       "5            9.932014              189.000000           10.983375   \n",
       "6            3.745587              186.606696            4.589632   \n",
       "7            2.527742              271.600000            3.646212   \n",
       "8            4.518619               63.000000            5.883152   \n",
       "9            4.943637              195.900000            6.576604   \n",
       "\n",
       "   rain_accumulation_9am  rain_duration_9am  relative_humidity_9am  \\\n",
       "0                   0.00                0.0              42.420000   \n",
       "1                   0.00                0.0              24.328697   \n",
       "2                   0.00               20.0               8.900000   \n",
       "3                   0.00                0.0              12.189102   \n",
       "4                   8.90            14730.0              92.410000   \n",
       "5                   0.02              170.0              35.130000   \n",
       "6                   0.00                0.0              10.657422   \n",
       "7                   0.00                0.0              80.470000   \n",
       "8                   0.00                0.0              29.580000   \n",
       "9                   0.00                0.0              88.600000   \n",
       "\n",
       "   relative_humidity_3pm  \n",
       "0              36.160000  \n",
       "1              19.426597  \n",
       "2              14.460000  \n",
       "3              12.742547  \n",
       "4              76.740000  \n",
       "5              33.930000  \n",
       "6              21.385657  \n",
       "7              74.920000  \n",
       "8              24.030000  \n",
       "9              68.050000  "
      ]
     },
     "execution_count": 6,
     "metadata": {},
     "output_type": "execute_result"
    }
   ],
   "source": [
    "print(weather_df.shape)\n",
    "weather_df.head(10)"
   ]
  },
  {
   "cell_type": "markdown",
   "metadata": {},
   "source": [
    "### 2. Exploratory Analysis: Missing Data    \n",
    "a) Please **report how many values are missing (null) in each column**.<br>\n",
    "\n",
    "<i>Note that both a and b can be done in one line using the right Pandas functions)</i>"
   ]
  },
  {
   "cell_type": "code",
   "execution_count": 4,
   "metadata": {},
   "outputs": [
    {
     "data": {
      "text/plain": [
       "number                    0\n",
       "air_pressure_9am          3\n",
       "air_temp_9am              5\n",
       "avg_wind_direction_9am    4\n",
       "avg_wind_speed_9am        3\n",
       "max_wind_direction_9am    3\n",
       "max_wind_speed_9am        4\n",
       "rain_accumulation_9am     6\n",
       "rain_duration_9am         3\n",
       "relative_humidity_9am     0\n",
       "relative_humidity_3pm     0\n",
       "dtype: int64"
      ]
     },
     "execution_count": 4,
     "metadata": {},
     "output_type": "execute_result"
    }
   ],
   "source": [
    "weather_df.isnull().sum(axis=0)"
   ]
  },
  {
   "cell_type": "markdown",
   "metadata": {},
   "source": [
    "b) **Remove all rows that have any missing values** from the DataFrame. <br>\n",
    "Print the shape of the DataFrame after the removal to confirm that the change took place."
   ]
  },
  {
   "cell_type": "code",
   "execution_count": 5,
   "metadata": {},
   "outputs": [
    {
     "name": "stdout",
     "output_type": "stream",
     "text": [
      "(1064, 11)\n"
     ]
    }
   ],
   "source": [
    "weather_df = weather_df[~weather_df.isnull().any(axis=1)]\n",
    "print(weather_df.shape)"
   ]
  },
  {
   "cell_type": "markdown",
   "metadata": {},
   "source": [
    "### 3. Temperature over time\n",
    "\n",
    "Let's see what kind of temperatures this weather station experienced. <br><br>\n",
    "3a) **Plot all the temperatures over time**\n",
    "<ul>\n",
    "    <li>The x-axis is the sample number</li>\n",
    "    <li>The y-axis is the temperature</li>\n",
    "    <li>Use either a scatter or line plot</li>\n",
    "    <li>Label <b>both</b> axes appropriately</li> \n",
    "    <li>Add an appropriate title</li>\n",
    "</ul>"
   ]
  },
  {
   "cell_type": "code",
   "execution_count": 6,
   "metadata": {},
   "outputs": [
    {
     "data": {
      "image/png": "[encoded data removed]",
      "text/plain": [
       "<Figure size 432x288 with 1 Axes>"
      ]
     },
     "metadata": {
      "needs_background": "light"
     },
     "output_type": "display_data"
    }
   ],
   "source": [
    "# Plot the data\n",
    "x = weather_df['number']\n",
    "y = weather_df['air_temp_9am']\n",
    "plt.plot(x, y)\n",
    "\n",
    "# Label the axes\n",
    "plt.xlabel('Day')\n",
    "plt.ylabel('Temperature at 9am')\n",
    "\n",
    "#label the figure\n",
    "plt.title('Temperature by day')\n",
    "\n",
    "plt.show()"
   ]
  },
  {
   "cell_type": "markdown",
   "metadata": {},
   "source": [
    "3b) **Repeat part a**, but do it only for the **first 20 days** in the dataset.<br>\n",
    "(Once you've seen what a's plot looks like, you should have the urge to do this anyway)"
   ]
  },
  {
   "cell_type": "code",
   "execution_count": 7,
   "metadata": {},
   "outputs": [
    {
     "data": {
      "image/png": "[encoded data removed]",
      "text/plain": [
       "<Figure size 432x288 with 1 Axes>"
      ]
     },
     "metadata": {
      "needs_background": "light"
     },
     "output_type": "display_data"
    }
   ],
   "source": [
    "# Plot the data\n",
    "x = weather_df['number'][:20]\n",
    "y = weather_df['air_temp_9am'][:20]\n",
    "plt.plot(x, y)\n",
    "\n",
    "# Label the axes\n",
    "plt.xlabel('Day')\n",
    "plt.ylabel('Temperature at 9am')\n",
    "\n",
    "#label the figure\n",
    "plt.title('Temperature by day')\n",
    "\n",
    "plt.show()"
   ]
  },
  {
   "cell_type": "markdown",
   "metadata": {},
   "source": [
    "### 4.  Rainfall\n",
    "\n",
    "**How many days** experienced any (nonzero) amount of rainfall? **What percentage** (up to 2 decimal places) of the total days does this make up?\n",
    "\n",
    "<i>If you're unsure how to round decimal values, treat this as an exercise in Googling. If you still have trouble, make a Piazza post!</i>"
   ]
  },
  {
   "cell_type": "code",
   "execution_count": 8,
   "metadata": {},
   "outputs": [
    {
     "name": "stdout",
     "output_type": "stream",
     "text": [
      "There were 176 rainy days in the dataset, which make up 16.54% of the total days\n"
     ]
    }
   ],
   "source": [
    "rainy_days = len(weather_df[weather_df['rain_duration_9am'] > 0]) \n",
    "p = '%.02f' % (rainy_days * 1.0 / weather_df.shape[0] * 100)\n",
    "print('There were {} rainy days in the dataset, which make up {}% of the total days'.format(rainy_days, p))"
   ]
  },
  {
   "cell_type": "markdown",
   "metadata": {},
   "source": [
    "### 5. Temperature distribution\n",
    "\n",
    "Build a histogram using all the temperatures from the dataset. \n",
    "\n",
    "The x-axis should have 10 bins (ranges that the temperatures fall into, also called buckets). To be explicit, if you give pyplot your list of temperatures and 10 bins to put them in, your x-axis should look like this: [40,50,60,70,80,90,100].\n",
    "\n",
    "\n",
    "<ul>\n",
    "    <li>The x-axis is the temperature</li>\n",
    "    <li>The y-axis is the frequency</li>\n",
    "    <li>Use either a scatter or line plot</li>\n",
    "    <li>Label <b>both</b> axes appropriately</li> \n",
    "    <li>Add an appropriate title</li>\n",
    "</ul>"
   ]
  },
  {
   "cell_type": "code",
   "execution_count": 9,
   "metadata": {},
   "outputs": [
    {
     "name": "stderr",
     "output_type": "stream",
     "text": [
      "/usr/local/lib/python3.6/site-packages/matplotlib/axes/_axes.py:6499: MatplotlibDeprecationWarning: \n",
      "The 'normed' kwarg was deprecated in Matplotlib 2.1 and will be removed in 3.1. Use 'density' instead.\n",
      "  alternative=\"'density'\", removal=\"3.1\")\n"
     ]
    },
    {
     "data": {
      "image/png": "[encoded data removed]",
      "text/plain": [
       "<Figure size 432x288 with 1 Axes>"
      ]
     },
     "metadata": {
      "needs_background": "light"
     },
     "output_type": "display_data"
    }
   ],
   "source": [
    "# the histogram of the data\n",
    "plt.hist(weather_df['air_temp_9am'], 10, normed=False, facecolor='green')\n",
    "plt.xlabel('Temperature')\n",
    "plt.ylabel('Frequency')\n",
    "plt.title('Temperature Distribution')\n",
    "\n",
    "plt.grid(True)\n",
    "\n",
    "plt.show()"
   ]
  },
  {
   "cell_type": "markdown",
   "metadata": {},
   "source": [
    "### 6. Relative humidity  vs. air temperature\n",
    "**6a)** **Plot** the air temperature vs relative humidity. \n",
    "\n",
    "<ul>\n",
    "    <li>The x-axis is the temperature</li>\n",
    "    <li>The y-axis is the relative humidity (please use the 9am measurement)</li>\n",
    "    <li>Use either a scatter or line plot</li>\n",
    "    <li>Label <b>both</b> axes appropriately</li> \n",
    "    <li>Add an appropriate title</li>\n",
    "</ul>"
   ]
  },
  {
   "cell_type": "code",
   "execution_count": 10,
   "metadata": {},
   "outputs": [
    {
     "data": {
      "image/png": "[encoded data removed]",
      "text/plain": [
       "<Figure size 432x288 with 1 Axes>"
      ]
     },
     "metadata": {
      "needs_background": "light"
     },
     "output_type": "display_data"
    }
   ],
   "source": [
    "%matplotlib inline\n",
    "import matplotlib.pyplot as plt\n",
    "\n",
    "fig, axis = plt.subplots()\n",
    "axis.set_title('Relative humidity by day',fontsize=10)\n",
    "axis.set_xlabel('Day',fontsize=10)\n",
    "axis.set_ylabel('Relative Humidity')\n",
    "\n",
    "lim = -1\n",
    "X = weather_df['air_temp_9am'][:lim]\n",
    "Y = weather_df['relative_humidity_9am'][:lim]\n",
    "axis.scatter(X, Y)\n",
    "\n",
    "plt.show()"
   ]
  },
  {
   "cell_type": "markdown",
   "metadata": {},
   "source": [
    "**6b)** **Calculate the correlation coefficients** of the same columns you plotted in part a. \n",
    "\n",
    "<i>Numpy has a convenient function to accomplish this, demoed in notebook 06_Matplotlib_Overview</i>"
   ]
  },
  {
   "cell_type": "code",
   "execution_count": 12,
   "metadata": {},
   "outputs": [
    {
     "data": {
      "text/plain": [
       "array([[ 1.        , -0.58201085],\n",
       "       [-0.58201085,  1.        ]])"
      ]
     },
     "execution_count": 12,
     "metadata": {},
     "output_type": "execute_result"
    }
   ],
   "source": [
    "np.corrcoef(X, Y)"
   ]
  },
  {
   "cell_type": "markdown",
   "metadata": {},
   "source": [
    "**6c)** In the markdown cell below, **write a couple sentences** that describe the relationship between relative humidity and air temperature in this dataset. Talk about things like:\n",
    "<ul>\n",
    "    <li>Are they correlated?</li>\n",
    "    <li>Positively or negatively?</li>\n",
    "    <li>Is this correlation strong or weak?</li>\n",
    "</ul>"
   ]
  },
  {
   "cell_type": "markdown",
   "metadata": {},
   "source": [
    "*Respond here*\n",
    "\n",
    "\n"
   ]
  }
 ],
 "metadata": {
  "anaconda-cloud": {},
  "kernelspec": {
   "display_name": "Python 3",
   "language": "python",
   "name": "python3"
  },
  "language_info": {
   "codemirror_mode": {
    "name": "ipython",
    "version": 3
   },
   "file_extension": ".py",
   "mimetype": "text/x-python",
   "name": "python",
   "nbconvert_exporter": "python",
   "pygments_lexer": "ipython3",
   "version": "3.6.5"
  }
 },
 "nbformat": 4,
 "nbformat_minor": 2
}
