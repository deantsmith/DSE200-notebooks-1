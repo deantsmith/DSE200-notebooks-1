{
 "cells": [
  {
   "cell_type": "markdown",
   "metadata": {},
   "source": [
    "<p style=\"font-family: Arial; font-size:1.75em;color:purple; font-style:bold\"><br>\n",
    "Hands-on Practice with Pandas and Matplotlib</p>\n",
    "\n"
   ]
  },
  {
   "cell_type": "code",
   "execution_count": 2,
   "metadata": {},
   "outputs": [],
   "source": [
    "import matplotlib.pyplot as plt\n",
    "import pandas as pd\n",
    "import numpy as np\n",
    "from math import pi\n",
    "\n",
    "%matplotlib inline"
   ]
  },
  {
   "cell_type": "markdown",
   "metadata": {},
   "source": [
    "<p style=\"font-family: Arial; font-size:1.3em;color:purple; font-style:bold\"><br>\n",
    "1: Get the data and inspect it</p>\n",
    " \n",
    "**Load the data** into a Pandas Dataframe. **Inspect all the columns**, and <b>read the data dictionary <a href=\"https://www.kaggle.com/c/titanic/data\">on Kaggle</a></b> to understand their meaning. **Print the shape of the dataframe and its head**.\n",
    "\n",
    "To avoid confusion, note that this isn't the exact same dataset from Kaggle. Kaggle just has a nicely formatted data dictionary.  The dataset we're using (<a href=\"http://biostat.mc.vanderbilt.edu/wiki/Main/DataSets\">source</a>) includes data on all available passengers as well as their lables. Kaggle's version does not, for reasons you can guess. "
   ]
  },
  {
   "cell_type": "code",
   "execution_count": 3,
   "metadata": {},
   "outputs": [],
   "source": [
    "titanic = pd.read_csv(\"./titanic_data.csv\")"
   ]
  },
  {
   "cell_type": "markdown",
   "metadata": {},
   "source": [
    "<p style=\"font-family: Arial; font-size:1.3em;color:purple; font-style:bold\"><br>\n",
    "2: Clean the data</p>\n",
    "\n",
    "Next, we want to remove rows with null values, as usual. However, first it may be a good idea to see if there are any columns that we can get rid of. Two reasons for wanting to do this are:<br>\n",
    "1. If any columns have way too many NaN values, we should get rid of these. If we don't, we'll frivolously remove rows that only have NaN's in these columns, which we don't want to do.\n",
    "2. Not all columns provide valuable information anyway\n",
    "\n",
    "**Find the name of the column with the most missing values. Then, drop it from the DataFrame.**<br>\n",
    "**Also, drop the ticket ticket column** because it's not useful to us.\n",
    "Once these columns are removed, **drop any rows that have NaN in the remaining columns**"
   ]
  },
  {
   "cell_type": "code",
   "execution_count": 3,
   "metadata": {},
   "outputs": [
    {
     "name": "stdout",
     "output_type": "stream",
     "text": [
      "pclass 0\n",
      "survived 0\n",
      "name 0\n",
      "sex 0\n",
      "age 263\n",
      "sibsp 0\n",
      "parch 0\n",
      "ticket 0\n",
      "fare 1\n",
      "cabin 1014\n",
      "embarked 2\n"
     ]
    }
   ],
   "source": [
    "# TODO: print column names and associated NaN counts"
   ]
  },
  {
   "cell_type": "code",
   "execution_count": 4,
   "metadata": {},
   "outputs": [],
   "source": [
    "# TODO: Drop cabin and ticket columns\n",
    "# TODO: Drop remaining rows with NaNs\n",
    "# TODO (Recommended): Make copy of your dataframe at this point called \"original\" so you have something to revert back to"
   ]
  },
  {
   "cell_type": "markdown",
   "metadata": {},
   "source": [
    "<p style=\"font-family: Arial; font-size:1.3em;color:purple; font-style:bold\"><br>\n",
    "3: Do Some Visualizations</p>\n",
    "\n",
    "First, lets see how age and travel class are related.<br> \n",
    "<b>Build a <a href=\"https://matplotlib.org/api/_as_gen/matplotlib.pyplot.hist.html\">Matplotlib hisogram</a></b> for ages by first, second and third class tickets. For the histogram,\n",
    "<ul>\n",
    "    <li>x-axis is age</li>\n",
    "    <li>y-axis is occurences of passengers at that age in the given travel group</li>\n",
    "    <li>The number of buckets you choose for the histogram is up to you</li>\n",
    "    <li>Use hyisttype='step', and plot all 3 age distributions on the same histogram</li>\n",
    "</ul>\n",
    "\n",
    "*Note: Remember to title your plots and label all your axes!*"
   ]
  },
  {
   "cell_type": "code",
   "execution_count": 5,
   "metadata": {},
   "outputs": [],
   "source": [
    "# TODO: Get ages by class\n",
    "# TODO: Create an array of bins for ages. Use range.\n",
    "# TODO: Plot all three age lists with different colors"
   ]
  },
  {
   "cell_type": "markdown",
   "metadata": {},
   "source": [
    "There were different locations from which passengers embarked. Build a <a href=\"https://matplotlib.org/api/_as_gen/matplotlib.pyplot.hist.html\">Matplotlib bar chart</a></b> where:<br>\n",
    "<ul>\n",
    "    <li>x-axis is location</li>\n",
    "    <li>y-axis is occurences of passengers embarking at that location</li>\n",
    "</ul>"
   ]
  },
  {
   "cell_type": "code",
   "execution_count": 6,
   "metadata": {},
   "outputs": [],
   "source": [
    "# TODO: Get embarked value counts\n",
    "# TODO: Create a bar chart with one bar for each location"
   ]
  },
  {
   "cell_type": "markdown",
   "metadata": {},
   "source": [
    "Time for a more morbid visualization. Build one <a href=\"https://matplotlib.org/api/_as_gen/matplotlib.pyplot.hist.html\">Matplotlib bar chart</a></b> that represents survival/casualty rates for males and females. This will requre you to plot 4 bars in total, where two bars will overlay the other two. The larger of each overlaid bar is the total count of that gender, and the smaller is the coun that survived.\n",
    "<ul>\n",
    "    <li>x-axis is gender</li>\n",
    "    <li>y-axis is # of passengers</li>\n",
    "    <li>2 bars for each gender<ul>\n",
    "        <li>One bar represents total # passengers</li>\n",
    "        <li>One bar represents # passengers that survived</li></ul>\n",
    "    </li>\n",
    "</ul>"
   ]
  },
  {
   "cell_type": "code",
   "execution_count": 7,
   "metadata": {},
   "outputs": [],
   "source": [
    "# TODO: Get counts of total males/females and total survived males/females \n",
    "# TODO: Plot two bars, one for male total and one for male survived at same x location. \n",
    "# TODO: Do same for female at other x location."
   ]
  },
  {
   "cell_type": "markdown",
   "metadata": {},
   "source": [
    "<p style=\"font-family: Arial; font-size:1.3em;color:purple; font-style:bold\"><br>\n",
    "4: Predict survival</p>\n",
    "\n",
    "*Note:* Please make a copy of the original dataset before  doing the following\n",
    "\n",
    "Separate the data into it's features and labels. Since we're trying to predict survival rate, the labels will be the survival column. The features we'll use will exclude the name, sex and embarked (think about why - there are different reasons for dropping name vs. dropping sex and embarked). Drop these two columns from your dataset. The result should be a (1309, 7) DataFrame called features and a (1309,) DataFrame called labels. \n",
    "\n"
   ]
  },
  {
   "cell_type": "code",
   "execution_count": 8,
   "metadata": {},
   "outputs": [],
   "source": [
    "from sklearn.utils import shuffle\n",
    "random_state = 123\n",
    "\n",
    "# TODO: Drop name, embarked, sex\n",
    "# TODO: Shuffle your dataset using shuffle(df, random_state=random_state)"
   ]
  },
  {
   "cell_type": "code",
   "execution_count": 9,
   "metadata": {},
   "outputs": [],
   "source": [
    "# TODO: Create data df \n",
    "# TODO: Create label df\n",
    "# TODO: Print their shapes and heads."
   ]
  },
  {
   "cell_type": "markdown",
   "metadata": {},
   "source": [
    "Now, **split your labels and data each into a train and test portion**. Note that it's important that train features and train labels align perfectly (same for test features and labels). Let's use 80% of the data for training"
   ]
  },
  {
   "cell_type": "code",
   "execution_count": 10,
   "metadata": {},
   "outputs": [],
   "source": [
    "# TODO: Split data into X_train X_test\n",
    "# TODO: Split labels into y_train y_test\n",
    "# TODO: Print their shapes and the head of both X's."
   ]
  },
  {
   "cell_type": "markdown",
   "metadata": {},
   "source": [
    "Now, fit a classifier to your training data. Let's use <a href=\"http://scikit-learn.org/stable/modules/generated/sklearn.linear_model.LogisticRegression.html\">Logistic Regression</a>\n"
   ]
  },
  {
   "cell_type": "code",
   "execution_count": 11,
   "metadata": {},
   "outputs": [],
   "source": [
    "from sklearn.metrics import accuracy_score\n",
    "from sklearn.linear_model import LogisticRegression\n",
    "\n",
    "# TODO: Instantiate and then fit a logistic regressor "
   ]
  },
  {
   "cell_type": "code",
   "execution_count": 12,
   "metadata": {},
   "outputs": [],
   "source": [
    "# TODO: Make predictions and get accuracy score"
   ]
  },
  {
   "cell_type": "markdown",
   "metadata": {},
   "source": [
    "<p style=\"font-family: Arial; font-size:1.3em;color:purple; font-style:bold\"><br>\n",
    "5: More features</p>\n",
    "\n",
    "To allow our model to use and embarked and sex columns, let's transform them to numerical values.<br>\n",
    "We'll <a href=\"https://www.kaggle.com/dansbecker/using-categorical-data-with-one-hot-encoding\">one hot encode</a> these string features. There's a <a href=\"https://pandas.pydata.org/pandas-docs/version/0.17.0/generated/pandas.get_dummies.html\">convenient pandas function</a> to help us with this.\n",
    "Remember to still drop the name column, we're not using this as it holds no predictive value."
   ]
  },
  {
   "cell_type": "code",
   "execution_count": 16,
   "metadata": {},
   "outputs": [],
   "source": [
    "# TODO: Get copy of original dataset before step 4.\n",
    "# TODO: Repeat step 4 up until the train-test split (shuffle, get data df, get label df). \n",
    "#       Note: Drop name. Don't drop sex and embarked."
   ]
  },
  {
   "cell_type": "code",
   "execution_count": 17,
   "metadata": {},
   "outputs": [],
   "source": [
    "# TODO: get new columns for sex and embarked using pd.get_dummies. Concatenate them to the dataset column wise.\n",
    "# TODO: drop old columns for sex and embarked\n",
    "\n",
    "# Split into train-test set same way as at the end of step 4. Print resulting shapes."
   ]
  },
  {
   "cell_type": "code",
   "execution_count": 18,
   "metadata": {},
   "outputs": [],
   "source": [
    "from sklearn.metrics import accuracy_score\n",
    "from sklearn.linear_model import LogisticRegression\n",
    "\n",
    "# TODO: Instantiate and then fit a logistic regressor \n",
    "# TODO: Make predictions and get accuracy score"
   ]
  },
  {
   "cell_type": "code",
   "execution_count": null,
   "metadata": {},
   "outputs": [],
   "source": []
  }
 ],
 "metadata": {
  "anaconda-cloud": {},
  "kernelspec": {
   "display_name": "Python 3",
   "language": "python",
   "name": "python3"
  },
  "language_info": {
   "codemirror_mode": {
    "name": "ipython",
    "version": 3
   },
   "file_extension": ".py",
   "mimetype": "text/x-python",
   "name": "python",
   "nbconvert_exporter": "python",
   "pygments_lexer": "ipython3",
   "version": "3.6.5"
  }
 },
 "nbformat": 4,
 "nbformat_minor": 2
}
