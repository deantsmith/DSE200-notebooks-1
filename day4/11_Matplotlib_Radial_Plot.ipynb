{
 "cells": [
  {
   "cell_type": "markdown",
   "metadata": {},
   "source": [
    "## DSE 200 Matplotlib Extras\n",
    "\n",
    "Creating custom visualizations for your data. Here, we create radial plots that represent how many standard deviations away from the mean a given sample is. \n",
    "\n",
    "The radial plot code was adapted from <a href=\"https://python-graph-gallery.com/390-basic-radar-chart/\">this example</a>."
   ]
  },
  {
   "cell_type": "code",
   "execution_count": 1,
   "metadata": {},
   "outputs": [],
   "source": [
    "import matplotlib.pyplot as plt\n",
    "import pandas as pd\n",
    "import numpy as np\n",
    "from math import pi\n",
    "\n",
    "%matplotlib inline"
   ]
  },
  {
   "cell_type": "markdown",
   "metadata": {},
   "source": [
    "### Step 1: Get the data and clean it"
   ]
  },
  {
   "cell_type": "code",
   "execution_count": null,
   "metadata": {},
   "outputs": [],
   "source": []
  },
  {
   "cell_type": "markdown",
   "metadata": {},
   "source": [
    "### Step 2: Transform the values in each column to a standard normal distribution\n",
    "\n",
    "This way, we don't have to worry about how the ranges of values vary by unit of measurement.<br><br>\n",
    "We're only interested in the relative values in each column, so we transform our dataset so that a given value represents how far off from the mean that measurement is (in the number of standard deviations)<br><br>\n",
    "For a given column, this can be accomplished by subtracting the column's mean and dividing by the column's standard deviation.<br>\n",
    "`column = (column - column_mean) / column_std_dev`<br>\n",
    "Notice that for values close to the mean, applying this process results in transformed values being close to 0."
   ]
  },
  {
   "cell_type": "code",
   "execution_count": null,
   "metadata": {},
   "outputs": [],
   "source": []
  },
  {
   "cell_type": "markdown",
   "metadata": {},
   "source": [
    "### Step 3: Define a function for plotting a sample\n",
    "\n",
    "This function will plot feature values on a radial plot. A radial plot is ideal here for a few reasons.<br>\n",
    "We can view each data sample as a vector in 7-dimensional space, something that is impossible for the human mind to visualize. The radial plot conveniently presents these vectors as geometric shapes, which are much more human-interpretable.<br>Additionally, the negative values (see step 2) in our features make our dataset less ameanable to more typical visualization approaches.<br>\n"
   ]
  },
  {
   "cell_type": "code",
   "execution_count": null,
   "metadata": {},
   "outputs": [],
   "source": []
  },
  {
   "cell_type": "markdown",
   "metadata": {},
   "source": [
    "### Step 4: Pick an interesting weather sample to plot\n",
    "Lets look at the more extreme weather samples. "
   ]
  },
  {
   "cell_type": "markdown",
   "metadata": {},
   "source": [
    "#### 4a: Rainy Conditions\n",
    "\n",
    "Let's see how other features compare to rain duration on rainy days<br><br>\n",
    "First, let's sort the DataFrame on nonincreasing rainfall for convenience."
   ]
  },
  {
   "cell_type": "code",
   "execution_count": null,
   "metadata": {},
   "outputs": [],
   "source": []
  },
  {
   "cell_type": "markdown",
   "metadata": {},
   "source": [
    "Now, pick a sample from the sorted DataFrame and plot it"
   ]
  },
  {
   "cell_type": "code",
   "execution_count": null,
   "metadata": {},
   "outputs": [],
   "source": []
  },
  {
   "cell_type": "markdown",
   "metadata": {},
   "source": [
    "#### 3b: Santa Ana Conditions\n",
    "**Santa Ana conditions** are hot, dry, windy weather conditions that greatly increase the dangers of wildfires in Southern California. These winds typically blow towards the coast from mountain passes to the North-East.\n",
    "\n",
    "<img src='./img/santa_ana_winds.jpg' length=300 width=300 align='left' alt_text='Santa Ana Winds'>"
   ]
  },
  {
   "cell_type": "code",
   "execution_count": null,
   "metadata": {},
   "outputs": [],
   "source": []
  },
  {
   "cell_type": "code",
   "execution_count": null,
   "metadata": {},
   "outputs": [],
   "source": []
  }
 ],
 "metadata": {
  "anaconda-cloud": {},
  "kernelspec": {
   "display_name": "Python 3",
   "language": "python",
   "name": "python3"
  },
  "language_info": {
   "codemirror_mode": {
    "name": "ipython",
    "version": 3
   },
   "file_extension": ".py",
   "mimetype": "text/x-python",
   "name": "python",
   "nbconvert_exporter": "python",
   "pygments_lexer": "ipython3",
   "version": "3.6.5"
  }
 },
 "nbformat": 4,
 "nbformat_minor": 2
}
